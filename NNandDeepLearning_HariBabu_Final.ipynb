{
 "cells": [
  {
   "cell_type": "markdown",
   "metadata": {
    "id": "0rd_4SViLXC7"
   },
   "source": [
    "# PART-A"
   ]
  },
  {
   "cell_type": "markdown",
   "metadata": {
    "id": "EDfwu-vbLwRQ"
   },
   "source": [
    "# 1. Data import and Understanding.    [10M]"
   ]
  },
  {
   "cell_type": "markdown",
   "metadata": {
    "id": "lys8qV5ZkTgY"
   },
   "source": [
    "### A. Read the ‘Signals.csv’ as DataFrame and import required libraries [2M]"
   ]
  },
  {
   "cell_type": "code",
   "execution_count": 1,
   "metadata": {
    "id": "3vPRqmGui70x"
   },
   "outputs": [],
   "source": [
    "import warnings\n",
    "import tensorflow as tf\n",
    "import pandas as pd"
   ]
  },
  {
   "cell_type": "code",
   "execution_count": 2,
   "metadata": {
    "id": "ZmXMgLYrNTrW"
   },
   "outputs": [],
   "source": [
    "import seaborn as sns\n",
    "import matplotlib.pyplot as plt\n",
    "%matplotlib inline"
   ]
  },
  {
   "cell_type": "code",
   "execution_count": 3,
   "metadata": {
    "id": "GYAG2VSKOcgf"
   },
   "outputs": [],
   "source": [
    "import sklearn\n",
    "from sklearn.model_selection import train_test_split\n",
    "from sklearn.preprocessing import StandardScaler"
   ]
  },
  {
   "cell_type": "code",
   "execution_count": 4,
   "metadata": {
    "id": "lDR41v5kSmOi"
   },
   "outputs": [],
   "source": [
    "from tensorflow.keras.utils import to_categorical\n",
    "from tensorflow.keras.models import Sequential\n",
    "from tensorflow.keras.layers import Flatten, Dense\n",
    "from tensorflow.keras import regularizers, optimizers\n",
    "from sklearn.metrics import r2_score\n",
    "from tensorflow.keras.models import load_model\n",
    "from tensorflow.keras.layers import BatchNormalization\n",
    "from tensorflow.keras.layers import Dropout"
   ]
  },
  {
   "cell_type": "code",
   "execution_count": null,
   "metadata": {
    "id": "lClOdOlcfO9Q"
   },
   "outputs": [],
   "source": []
  },
  {
   "cell_type": "code",
   "execution_count": null,
   "metadata": {
    "id": "oczTcqsxn4qU"
   },
   "outputs": [],
   "source": []
  },
  {
   "cell_type": "code",
   "execution_count": 5,
   "metadata": {
    "colab": {
     "base_uri": "https://localhost:8080/",
     "height": 35
    },
    "id": "qRg1Hv1PjQwI",
    "outputId": "6ccb501a-fbc0-4084-d157-a45a6b755642"
   },
   "outputs": [
    {
     "data": {
      "application/vnd.google.colaboratory.intrinsic+json": {
       "type": "string"
      },
      "text/plain": [
       "'2.8.2'"
      ]
     },
     "execution_count": 5,
     "metadata": {},
     "output_type": "execute_result"
    }
   ],
   "source": [
    "tf.__version__"
   ]
  },
  {
   "cell_type": "code",
   "execution_count": null,
   "metadata": {
    "id": "qg054IGHjVYK"
   },
   "outputs": [],
   "source": []
  },
  {
   "cell_type": "code",
   "execution_count": 6,
   "metadata": {
    "colab": {
     "base_uri": "https://localhost:8080/",
     "height": 288
    },
    "id": "NDXx3z_BlPJa",
    "outputId": "e3faf199-2eb1-4a9f-bf4f-278f3f2ba70c"
   },
   "outputs": [
    {
     "data": {
      "text/html": [
       "\n",
       "  <div id=\"df-850e0242-8f64-47cf-9120-da3da3fe837b\">\n",
       "    <div class=\"colab-df-container\">\n",
       "      <div>\n",
       "<style scoped>\n",
       "    .dataframe tbody tr th:only-of-type {\n",
       "        vertical-align: middle;\n",
       "    }\n",
       "\n",
       "    .dataframe tbody tr th {\n",
       "        vertical-align: top;\n",
       "    }\n",
       "\n",
       "    .dataframe thead th {\n",
       "        text-align: right;\n",
       "    }\n",
       "</style>\n",
       "<table border=\"1\" class=\"dataframe\">\n",
       "  <thead>\n",
       "    <tr style=\"text-align: right;\">\n",
       "      <th></th>\n",
       "      <th>Parameter 1</th>\n",
       "      <th>Parameter 2</th>\n",
       "      <th>Parameter 3</th>\n",
       "      <th>Parameter 4</th>\n",
       "      <th>Parameter 5</th>\n",
       "      <th>Parameter 6</th>\n",
       "      <th>Parameter 7</th>\n",
       "      <th>Parameter 8</th>\n",
       "      <th>Parameter 9</th>\n",
       "      <th>Parameter 10</th>\n",
       "      <th>Parameter 11</th>\n",
       "      <th>Signal_Strength</th>\n",
       "    </tr>\n",
       "  </thead>\n",
       "  <tbody>\n",
       "    <tr>\n",
       "      <th>0</th>\n",
       "      <td>7.4</td>\n",
       "      <td>0.70</td>\n",
       "      <td>0.00</td>\n",
       "      <td>1.9</td>\n",
       "      <td>0.076</td>\n",
       "      <td>11.0</td>\n",
       "      <td>34.0</td>\n",
       "      <td>0.9978</td>\n",
       "      <td>3.51</td>\n",
       "      <td>0.56</td>\n",
       "      <td>9.4</td>\n",
       "      <td>5</td>\n",
       "    </tr>\n",
       "    <tr>\n",
       "      <th>1</th>\n",
       "      <td>7.8</td>\n",
       "      <td>0.88</td>\n",
       "      <td>0.00</td>\n",
       "      <td>2.6</td>\n",
       "      <td>0.098</td>\n",
       "      <td>25.0</td>\n",
       "      <td>67.0</td>\n",
       "      <td>0.9968</td>\n",
       "      <td>3.20</td>\n",
       "      <td>0.68</td>\n",
       "      <td>9.8</td>\n",
       "      <td>5</td>\n",
       "    </tr>\n",
       "    <tr>\n",
       "      <th>2</th>\n",
       "      <td>7.8</td>\n",
       "      <td>0.76</td>\n",
       "      <td>0.04</td>\n",
       "      <td>2.3</td>\n",
       "      <td>0.092</td>\n",
       "      <td>15.0</td>\n",
       "      <td>54.0</td>\n",
       "      <td>0.9970</td>\n",
       "      <td>3.26</td>\n",
       "      <td>0.65</td>\n",
       "      <td>9.8</td>\n",
       "      <td>5</td>\n",
       "    </tr>\n",
       "    <tr>\n",
       "      <th>3</th>\n",
       "      <td>11.2</td>\n",
       "      <td>0.28</td>\n",
       "      <td>0.56</td>\n",
       "      <td>1.9</td>\n",
       "      <td>0.075</td>\n",
       "      <td>17.0</td>\n",
       "      <td>60.0</td>\n",
       "      <td>0.9980</td>\n",
       "      <td>3.16</td>\n",
       "      <td>0.58</td>\n",
       "      <td>9.8</td>\n",
       "      <td>6</td>\n",
       "    </tr>\n",
       "    <tr>\n",
       "      <th>4</th>\n",
       "      <td>7.4</td>\n",
       "      <td>0.70</td>\n",
       "      <td>0.00</td>\n",
       "      <td>1.9</td>\n",
       "      <td>0.076</td>\n",
       "      <td>11.0</td>\n",
       "      <td>34.0</td>\n",
       "      <td>0.9978</td>\n",
       "      <td>3.51</td>\n",
       "      <td>0.56</td>\n",
       "      <td>9.4</td>\n",
       "      <td>5</td>\n",
       "    </tr>\n",
       "  </tbody>\n",
       "</table>\n",
       "</div>\n",
       "      <button class=\"colab-df-convert\" onclick=\"convertToInteractive('df-850e0242-8f64-47cf-9120-da3da3fe837b')\"\n",
       "              title=\"Convert this dataframe to an interactive table.\"\n",
       "              style=\"display:none;\">\n",
       "        \n",
       "  <svg xmlns=\"http://www.w3.org/2000/svg\" height=\"24px\"viewBox=\"0 0 24 24\"\n",
       "       width=\"24px\">\n",
       "    <path d=\"M0 0h24v24H0V0z\" fill=\"none\"/>\n",
       "    <path d=\"M18.56 5.44l.94 2.06.94-2.06 2.06-.94-2.06-.94-.94-2.06-.94 2.06-2.06.94zm-11 1L8.5 8.5l.94-2.06 2.06-.94-2.06-.94L8.5 2.5l-.94 2.06-2.06.94zm10 10l.94 2.06.94-2.06 2.06-.94-2.06-.94-.94-2.06-.94 2.06-2.06.94z\"/><path d=\"M17.41 7.96l-1.37-1.37c-.4-.4-.92-.59-1.43-.59-.52 0-1.04.2-1.43.59L10.3 9.45l-7.72 7.72c-.78.78-.78 2.05 0 2.83L4 21.41c.39.39.9.59 1.41.59.51 0 1.02-.2 1.41-.59l7.78-7.78 2.81-2.81c.8-.78.8-2.07 0-2.86zM5.41 20L4 18.59l7.72-7.72 1.47 1.35L5.41 20z\"/>\n",
       "  </svg>\n",
       "      </button>\n",
       "      \n",
       "  <style>\n",
       "    .colab-df-container {\n",
       "      display:flex;\n",
       "      flex-wrap:wrap;\n",
       "      gap: 12px;\n",
       "    }\n",
       "\n",
       "    .colab-df-convert {\n",
       "      background-color: #E8F0FE;\n",
       "      border: none;\n",
       "      border-radius: 50%;\n",
       "      cursor: pointer;\n",
       "      display: none;\n",
       "      fill: #1967D2;\n",
       "      height: 32px;\n",
       "      padding: 0 0 0 0;\n",
       "      width: 32px;\n",
       "    }\n",
       "\n",
       "    .colab-df-convert:hover {\n",
       "      background-color: #E2EBFA;\n",
       "      box-shadow: 0px 1px 2px rgba(60, 64, 67, 0.3), 0px 1px 3px 1px rgba(60, 64, 67, 0.15);\n",
       "      fill: #174EA6;\n",
       "    }\n",
       "\n",
       "    [theme=dark] .colab-df-convert {\n",
       "      background-color: #3B4455;\n",
       "      fill: #D2E3FC;\n",
       "    }\n",
       "\n",
       "    [theme=dark] .colab-df-convert:hover {\n",
       "      background-color: #434B5C;\n",
       "      box-shadow: 0px 1px 3px 1px rgba(0, 0, 0, 0.15);\n",
       "      filter: drop-shadow(0px 1px 2px rgba(0, 0, 0, 0.3));\n",
       "      fill: #FFFFFF;\n",
       "    }\n",
       "  </style>\n",
       "\n",
       "      <script>\n",
       "        const buttonEl =\n",
       "          document.querySelector('#df-850e0242-8f64-47cf-9120-da3da3fe837b button.colab-df-convert');\n",
       "        buttonEl.style.display =\n",
       "          google.colab.kernel.accessAllowed ? 'block' : 'none';\n",
       "\n",
       "        async function convertToInteractive(key) {\n",
       "          const element = document.querySelector('#df-850e0242-8f64-47cf-9120-da3da3fe837b');\n",
       "          const dataTable =\n",
       "            await google.colab.kernel.invokeFunction('convertToInteractive',\n",
       "                                                     [key], {});\n",
       "          if (!dataTable) return;\n",
       "\n",
       "          const docLinkHtml = 'Like what you see? Visit the ' +\n",
       "            '<a target=\"_blank\" href=https://colab.research.google.com/notebooks/data_table.ipynb>data table notebook</a>'\n",
       "            + ' to learn more about interactive tables.';\n",
       "          element.innerHTML = '';\n",
       "          dataTable['output_type'] = 'display_data';\n",
       "          await google.colab.output.renderOutput(dataTable, element);\n",
       "          const docLink = document.createElement('div');\n",
       "          docLink.innerHTML = docLinkHtml;\n",
       "          element.appendChild(docLink);\n",
       "        }\n",
       "      </script>\n",
       "    </div>\n",
       "  </div>\n",
       "  "
      ],
      "text/plain": [
       "   Parameter 1  Parameter 2  Parameter 3  Parameter 4  Parameter 5  \\\n",
       "0          7.4         0.70         0.00          1.9        0.076   \n",
       "1          7.8         0.88         0.00          2.6        0.098   \n",
       "2          7.8         0.76         0.04          2.3        0.092   \n",
       "3         11.2         0.28         0.56          1.9        0.075   \n",
       "4          7.4         0.70         0.00          1.9        0.076   \n",
       "\n",
       "   Parameter 6  Parameter 7  Parameter 8  Parameter 9  Parameter 10  \\\n",
       "0         11.0         34.0       0.9978         3.51          0.56   \n",
       "1         25.0         67.0       0.9968         3.20          0.68   \n",
       "2         15.0         54.0       0.9970         3.26          0.65   \n",
       "3         17.0         60.0       0.9980         3.16          0.58   \n",
       "4         11.0         34.0       0.9978         3.51          0.56   \n",
       "\n",
       "   Parameter 11  Signal_Strength  \n",
       "0           9.4                5  \n",
       "1           9.8                5  \n",
       "2           9.8                5  \n",
       "3           9.8                6  \n",
       "4           9.4                5  "
      ]
     },
     "execution_count": 6,
     "metadata": {},
     "output_type": "execute_result"
    }
   ],
   "source": [
    "#Read the data as a data frame\n",
    "signal_df = pd.read_csv('Signal.csv')\n",
    "signal_df.head()"
   ]
  },
  {
   "cell_type": "markdown",
   "metadata": {
    "id": "pFPu-av8klH7"
   },
   "source": [
    "### B. Check for missing values and print percentage for each attribute [2M]"
   ]
  },
  {
   "cell_type": "code",
   "execution_count": 7,
   "metadata": {
    "colab": {
     "base_uri": "https://localhost:8080/"
    },
    "id": "CI-nS_mw2i_H",
    "outputId": "52b58c1f-4ec3-48ba-fc09-14fce8b3ae92"
   },
   "outputs": [
    {
     "data": {
      "text/plain": [
       "Parameter 1        0.0\n",
       "Parameter 2        0.0\n",
       "Parameter 3        0.0\n",
       "Parameter 4        0.0\n",
       "Parameter 5        0.0\n",
       "Parameter 6        0.0\n",
       "Parameter 7        0.0\n",
       "Parameter 8        0.0\n",
       "Parameter 9        0.0\n",
       "Parameter 10       0.0\n",
       "Parameter 11       0.0\n",
       "Signal_Strength    0.0\n",
       "dtype: float64"
      ]
     },
     "execution_count": 7,
     "metadata": {},
     "output_type": "execute_result"
    }
   ],
   "source": [
    "signal_df.isna().sum() * 100 / len(signal_df)"
   ]
  },
  {
   "cell_type": "markdown",
   "metadata": {
    "id": "-RuKOSWlkuhr"
   },
   "source": [
    "### C. Check for presence of duplicate records in the dataset and impute with appropriate method [2M]"
   ]
  },
  {
   "cell_type": "code",
   "execution_count": 8,
   "metadata": {
    "colab": {
     "base_uri": "https://localhost:8080/",
     "height": 505
    },
    "id": "vkRknxqK4QDf",
    "outputId": "daeb84da-5dd4-42bc-b2b3-79c9f4158deb"
   },
   "outputs": [
    {
     "data": {
      "text/html": [
       "\n",
       "  <div id=\"df-7e6f9232-aa21-47ca-8f2b-1d90236d5c38\">\n",
       "    <div class=\"colab-df-container\">\n",
       "      <div>\n",
       "<style scoped>\n",
       "    .dataframe tbody tr th:only-of-type {\n",
       "        vertical-align: middle;\n",
       "    }\n",
       "\n",
       "    .dataframe tbody tr th {\n",
       "        vertical-align: top;\n",
       "    }\n",
       "\n",
       "    .dataframe thead th {\n",
       "        text-align: right;\n",
       "    }\n",
       "</style>\n",
       "<table border=\"1\" class=\"dataframe\">\n",
       "  <thead>\n",
       "    <tr style=\"text-align: right;\">\n",
       "      <th></th>\n",
       "      <th>Parameter 1</th>\n",
       "      <th>Parameter 2</th>\n",
       "      <th>Parameter 3</th>\n",
       "      <th>Parameter 4</th>\n",
       "      <th>Parameter 5</th>\n",
       "      <th>Parameter 6</th>\n",
       "      <th>Parameter 7</th>\n",
       "      <th>Parameter 8</th>\n",
       "      <th>Parameter 9</th>\n",
       "      <th>Parameter 10</th>\n",
       "      <th>Parameter 11</th>\n",
       "      <th>Signal_Strength</th>\n",
       "    </tr>\n",
       "  </thead>\n",
       "  <tbody>\n",
       "    <tr>\n",
       "      <th>0</th>\n",
       "      <td>7.4</td>\n",
       "      <td>0.700</td>\n",
       "      <td>0.00</td>\n",
       "      <td>1.9</td>\n",
       "      <td>0.076</td>\n",
       "      <td>11.0</td>\n",
       "      <td>34.0</td>\n",
       "      <td>0.99780</td>\n",
       "      <td>3.51</td>\n",
       "      <td>0.56</td>\n",
       "      <td>9.4</td>\n",
       "      <td>5</td>\n",
       "    </tr>\n",
       "    <tr>\n",
       "      <th>4</th>\n",
       "      <td>7.4</td>\n",
       "      <td>0.700</td>\n",
       "      <td>0.00</td>\n",
       "      <td>1.9</td>\n",
       "      <td>0.076</td>\n",
       "      <td>11.0</td>\n",
       "      <td>34.0</td>\n",
       "      <td>0.99780</td>\n",
       "      <td>3.51</td>\n",
       "      <td>0.56</td>\n",
       "      <td>9.4</td>\n",
       "      <td>5</td>\n",
       "    </tr>\n",
       "    <tr>\n",
       "      <th>9</th>\n",
       "      <td>7.5</td>\n",
       "      <td>0.500</td>\n",
       "      <td>0.36</td>\n",
       "      <td>6.1</td>\n",
       "      <td>0.071</td>\n",
       "      <td>17.0</td>\n",
       "      <td>102.0</td>\n",
       "      <td>0.99780</td>\n",
       "      <td>3.35</td>\n",
       "      <td>0.80</td>\n",
       "      <td>10.5</td>\n",
       "      <td>5</td>\n",
       "    </tr>\n",
       "    <tr>\n",
       "      <th>11</th>\n",
       "      <td>7.5</td>\n",
       "      <td>0.500</td>\n",
       "      <td>0.36</td>\n",
       "      <td>6.1</td>\n",
       "      <td>0.071</td>\n",
       "      <td>17.0</td>\n",
       "      <td>102.0</td>\n",
       "      <td>0.99780</td>\n",
       "      <td>3.35</td>\n",
       "      <td>0.80</td>\n",
       "      <td>10.5</td>\n",
       "      <td>5</td>\n",
       "    </tr>\n",
       "    <tr>\n",
       "      <th>22</th>\n",
       "      <td>7.9</td>\n",
       "      <td>0.430</td>\n",
       "      <td>0.21</td>\n",
       "      <td>1.6</td>\n",
       "      <td>0.106</td>\n",
       "      <td>10.0</td>\n",
       "      <td>37.0</td>\n",
       "      <td>0.99660</td>\n",
       "      <td>3.17</td>\n",
       "      <td>0.91</td>\n",
       "      <td>9.5</td>\n",
       "      <td>5</td>\n",
       "    </tr>\n",
       "    <tr>\n",
       "      <th>...</th>\n",
       "      <td>...</td>\n",
       "      <td>...</td>\n",
       "      <td>...</td>\n",
       "      <td>...</td>\n",
       "      <td>...</td>\n",
       "      <td>...</td>\n",
       "      <td>...</td>\n",
       "      <td>...</td>\n",
       "      <td>...</td>\n",
       "      <td>...</td>\n",
       "      <td>...</td>\n",
       "      <td>...</td>\n",
       "    </tr>\n",
       "    <tr>\n",
       "      <th>1567</th>\n",
       "      <td>7.2</td>\n",
       "      <td>0.695</td>\n",
       "      <td>0.13</td>\n",
       "      <td>2.0</td>\n",
       "      <td>0.076</td>\n",
       "      <td>12.0</td>\n",
       "      <td>20.0</td>\n",
       "      <td>0.99546</td>\n",
       "      <td>3.29</td>\n",
       "      <td>0.54</td>\n",
       "      <td>10.1</td>\n",
       "      <td>5</td>\n",
       "    </tr>\n",
       "    <tr>\n",
       "      <th>1579</th>\n",
       "      <td>6.2</td>\n",
       "      <td>0.560</td>\n",
       "      <td>0.09</td>\n",
       "      <td>1.7</td>\n",
       "      <td>0.053</td>\n",
       "      <td>24.0</td>\n",
       "      <td>32.0</td>\n",
       "      <td>0.99402</td>\n",
       "      <td>3.54</td>\n",
       "      <td>0.60</td>\n",
       "      <td>11.3</td>\n",
       "      <td>5</td>\n",
       "    </tr>\n",
       "    <tr>\n",
       "      <th>1581</th>\n",
       "      <td>6.2</td>\n",
       "      <td>0.560</td>\n",
       "      <td>0.09</td>\n",
       "      <td>1.7</td>\n",
       "      <td>0.053</td>\n",
       "      <td>24.0</td>\n",
       "      <td>32.0</td>\n",
       "      <td>0.99402</td>\n",
       "      <td>3.54</td>\n",
       "      <td>0.60</td>\n",
       "      <td>11.3</td>\n",
       "      <td>5</td>\n",
       "    </tr>\n",
       "    <tr>\n",
       "      <th>1592</th>\n",
       "      <td>6.3</td>\n",
       "      <td>0.510</td>\n",
       "      <td>0.13</td>\n",
       "      <td>2.3</td>\n",
       "      <td>0.076</td>\n",
       "      <td>29.0</td>\n",
       "      <td>40.0</td>\n",
       "      <td>0.99574</td>\n",
       "      <td>3.42</td>\n",
       "      <td>0.75</td>\n",
       "      <td>11.0</td>\n",
       "      <td>6</td>\n",
       "    </tr>\n",
       "    <tr>\n",
       "      <th>1596</th>\n",
       "      <td>6.3</td>\n",
       "      <td>0.510</td>\n",
       "      <td>0.13</td>\n",
       "      <td>2.3</td>\n",
       "      <td>0.076</td>\n",
       "      <td>29.0</td>\n",
       "      <td>40.0</td>\n",
       "      <td>0.99574</td>\n",
       "      <td>3.42</td>\n",
       "      <td>0.75</td>\n",
       "      <td>11.0</td>\n",
       "      <td>6</td>\n",
       "    </tr>\n",
       "  </tbody>\n",
       "</table>\n",
       "<p>460 rows × 12 columns</p>\n",
       "</div>\n",
       "      <button class=\"colab-df-convert\" onclick=\"convertToInteractive('df-7e6f9232-aa21-47ca-8f2b-1d90236d5c38')\"\n",
       "              title=\"Convert this dataframe to an interactive table.\"\n",
       "              style=\"display:none;\">\n",
       "        \n",
       "  <svg xmlns=\"http://www.w3.org/2000/svg\" height=\"24px\"viewBox=\"0 0 24 24\"\n",
       "       width=\"24px\">\n",
       "    <path d=\"M0 0h24v24H0V0z\" fill=\"none\"/>\n",
       "    <path d=\"M18.56 5.44l.94 2.06.94-2.06 2.06-.94-2.06-.94-.94-2.06-.94 2.06-2.06.94zm-11 1L8.5 8.5l.94-2.06 2.06-.94-2.06-.94L8.5 2.5l-.94 2.06-2.06.94zm10 10l.94 2.06.94-2.06 2.06-.94-2.06-.94-.94-2.06-.94 2.06-2.06.94z\"/><path d=\"M17.41 7.96l-1.37-1.37c-.4-.4-.92-.59-1.43-.59-.52 0-1.04.2-1.43.59L10.3 9.45l-7.72 7.72c-.78.78-.78 2.05 0 2.83L4 21.41c.39.39.9.59 1.41.59.51 0 1.02-.2 1.41-.59l7.78-7.78 2.81-2.81c.8-.78.8-2.07 0-2.86zM5.41 20L4 18.59l7.72-7.72 1.47 1.35L5.41 20z\"/>\n",
       "  </svg>\n",
       "      </button>\n",
       "      \n",
       "  <style>\n",
       "    .colab-df-container {\n",
       "      display:flex;\n",
       "      flex-wrap:wrap;\n",
       "      gap: 12px;\n",
       "    }\n",
       "\n",
       "    .colab-df-convert {\n",
       "      background-color: #E8F0FE;\n",
       "      border: none;\n",
       "      border-radius: 50%;\n",
       "      cursor: pointer;\n",
       "      display: none;\n",
       "      fill: #1967D2;\n",
       "      height: 32px;\n",
       "      padding: 0 0 0 0;\n",
       "      width: 32px;\n",
       "    }\n",
       "\n",
       "    .colab-df-convert:hover {\n",
       "      background-color: #E2EBFA;\n",
       "      box-shadow: 0px 1px 2px rgba(60, 64, 67, 0.3), 0px 1px 3px 1px rgba(60, 64, 67, 0.15);\n",
       "      fill: #174EA6;\n",
       "    }\n",
       "\n",
       "    [theme=dark] .colab-df-convert {\n",
       "      background-color: #3B4455;\n",
       "      fill: #D2E3FC;\n",
       "    }\n",
       "\n",
       "    [theme=dark] .colab-df-convert:hover {\n",
       "      background-color: #434B5C;\n",
       "      box-shadow: 0px 1px 3px 1px rgba(0, 0, 0, 0.15);\n",
       "      filter: drop-shadow(0px 1px 2px rgba(0, 0, 0, 0.3));\n",
       "      fill: #FFFFFF;\n",
       "    }\n",
       "  </style>\n",
       "\n",
       "      <script>\n",
       "        const buttonEl =\n",
       "          document.querySelector('#df-7e6f9232-aa21-47ca-8f2b-1d90236d5c38 button.colab-df-convert');\n",
       "        buttonEl.style.display =\n",
       "          google.colab.kernel.accessAllowed ? 'block' : 'none';\n",
       "\n",
       "        async function convertToInteractive(key) {\n",
       "          const element = document.querySelector('#df-7e6f9232-aa21-47ca-8f2b-1d90236d5c38');\n",
       "          const dataTable =\n",
       "            await google.colab.kernel.invokeFunction('convertToInteractive',\n",
       "                                                     [key], {});\n",
       "          if (!dataTable) return;\n",
       "\n",
       "          const docLinkHtml = 'Like what you see? Visit the ' +\n",
       "            '<a target=\"_blank\" href=https://colab.research.google.com/notebooks/data_table.ipynb>data table notebook</a>'\n",
       "            + ' to learn more about interactive tables.';\n",
       "          element.innerHTML = '';\n",
       "          dataTable['output_type'] = 'display_data';\n",
       "          await google.colab.output.renderOutput(dataTable, element);\n",
       "          const docLink = document.createElement('div');\n",
       "          docLink.innerHTML = docLinkHtml;\n",
       "          element.appendChild(docLink);\n",
       "        }\n",
       "      </script>\n",
       "    </div>\n",
       "  </div>\n",
       "  "
      ],
      "text/plain": [
       "      Parameter 1  Parameter 2  Parameter 3  Parameter 4  Parameter 5  \\\n",
       "0             7.4        0.700         0.00          1.9        0.076   \n",
       "4             7.4        0.700         0.00          1.9        0.076   \n",
       "9             7.5        0.500         0.36          6.1        0.071   \n",
       "11            7.5        0.500         0.36          6.1        0.071   \n",
       "22            7.9        0.430         0.21          1.6        0.106   \n",
       "...           ...          ...          ...          ...          ...   \n",
       "1567          7.2        0.695         0.13          2.0        0.076   \n",
       "1579          6.2        0.560         0.09          1.7        0.053   \n",
       "1581          6.2        0.560         0.09          1.7        0.053   \n",
       "1592          6.3        0.510         0.13          2.3        0.076   \n",
       "1596          6.3        0.510         0.13          2.3        0.076   \n",
       "\n",
       "      Parameter 6  Parameter 7  Parameter 8  Parameter 9  Parameter 10  \\\n",
       "0            11.0         34.0      0.99780         3.51          0.56   \n",
       "4            11.0         34.0      0.99780         3.51          0.56   \n",
       "9            17.0        102.0      0.99780         3.35          0.80   \n",
       "11           17.0        102.0      0.99780         3.35          0.80   \n",
       "22           10.0         37.0      0.99660         3.17          0.91   \n",
       "...           ...          ...          ...          ...           ...   \n",
       "1567         12.0         20.0      0.99546         3.29          0.54   \n",
       "1579         24.0         32.0      0.99402         3.54          0.60   \n",
       "1581         24.0         32.0      0.99402         3.54          0.60   \n",
       "1592         29.0         40.0      0.99574         3.42          0.75   \n",
       "1596         29.0         40.0      0.99574         3.42          0.75   \n",
       "\n",
       "      Parameter 11  Signal_Strength  \n",
       "0              9.4                5  \n",
       "4              9.4                5  \n",
       "9             10.5                5  \n",
       "11            10.5                5  \n",
       "22             9.5                5  \n",
       "...            ...              ...  \n",
       "1567          10.1                5  \n",
       "1579          11.3                5  \n",
       "1581          11.3                5  \n",
       "1592          11.0                6  \n",
       "1596          11.0                6  \n",
       "\n",
       "[460 rows x 12 columns]"
      ]
     },
     "execution_count": 8,
     "metadata": {},
     "output_type": "execute_result"
    }
   ],
   "source": [
    "signal_df[signal_df.duplicated(keep=False)]"
   ]
  },
  {
   "cell_type": "code",
   "execution_count": 9,
   "metadata": {
    "colab": {
     "base_uri": "https://localhost:8080/"
    },
    "id": "8rrlAJ345G58",
    "outputId": "fa7e497d-8c18-4e6f-e232-12def8c8f501"
   },
   "outputs": [
    {
     "data": {
      "text/plain": [
       "460"
      ]
     },
     "execution_count": 9,
     "metadata": {},
     "output_type": "execute_result"
    }
   ],
   "source": [
    "len(signal_df[signal_df.duplicated(keep=False)])"
   ]
  },
  {
   "cell_type": "code",
   "execution_count": 10,
   "metadata": {
    "id": "8SatRFZl6XpC"
   },
   "outputs": [],
   "source": [
    "signal_df.drop_duplicates(keep=False, inplace=True)"
   ]
  },
  {
   "cell_type": "code",
   "execution_count": 11,
   "metadata": {
    "colab": {
     "base_uri": "https://localhost:8080/",
     "height": 131
    },
    "id": "DgXVb6gpMQyp",
    "outputId": "57206a67-fc03-4f49-830c-0ea7eef77702"
   },
   "outputs": [
    {
     "data": {
      "text/html": [
       "\n",
       "  <div id=\"df-a059bfa9-fab1-48e8-a350-d7468ee1746d\">\n",
       "    <div class=\"colab-df-container\">\n",
       "      <div>\n",
       "<style scoped>\n",
       "    .dataframe tbody tr th:only-of-type {\n",
       "        vertical-align: middle;\n",
       "    }\n",
       "\n",
       "    .dataframe tbody tr th {\n",
       "        vertical-align: top;\n",
       "    }\n",
       "\n",
       "    .dataframe thead th {\n",
       "        text-align: right;\n",
       "    }\n",
       "</style>\n",
       "<table border=\"1\" class=\"dataframe\">\n",
       "  <thead>\n",
       "    <tr style=\"text-align: right;\">\n",
       "      <th></th>\n",
       "      <th>Parameter 1</th>\n",
       "      <th>Parameter 2</th>\n",
       "      <th>Parameter 3</th>\n",
       "      <th>Parameter 4</th>\n",
       "      <th>Parameter 5</th>\n",
       "      <th>Parameter 6</th>\n",
       "      <th>Parameter 7</th>\n",
       "      <th>Parameter 8</th>\n",
       "      <th>Parameter 9</th>\n",
       "      <th>Parameter 10</th>\n",
       "      <th>Parameter 11</th>\n",
       "      <th>Signal_Strength</th>\n",
       "    </tr>\n",
       "  </thead>\n",
       "  <tbody>\n",
       "  </tbody>\n",
       "</table>\n",
       "</div>\n",
       "      <button class=\"colab-df-convert\" onclick=\"convertToInteractive('df-a059bfa9-fab1-48e8-a350-d7468ee1746d')\"\n",
       "              title=\"Convert this dataframe to an interactive table.\"\n",
       "              style=\"display:none;\">\n",
       "        \n",
       "  <svg xmlns=\"http://www.w3.org/2000/svg\" height=\"24px\"viewBox=\"0 0 24 24\"\n",
       "       width=\"24px\">\n",
       "    <path d=\"M0 0h24v24H0V0z\" fill=\"none\"/>\n",
       "    <path d=\"M18.56 5.44l.94 2.06.94-2.06 2.06-.94-2.06-.94-.94-2.06-.94 2.06-2.06.94zm-11 1L8.5 8.5l.94-2.06 2.06-.94-2.06-.94L8.5 2.5l-.94 2.06-2.06.94zm10 10l.94 2.06.94-2.06 2.06-.94-2.06-.94-.94-2.06-.94 2.06-2.06.94z\"/><path d=\"M17.41 7.96l-1.37-1.37c-.4-.4-.92-.59-1.43-.59-.52 0-1.04.2-1.43.59L10.3 9.45l-7.72 7.72c-.78.78-.78 2.05 0 2.83L4 21.41c.39.39.9.59 1.41.59.51 0 1.02-.2 1.41-.59l7.78-7.78 2.81-2.81c.8-.78.8-2.07 0-2.86zM5.41 20L4 18.59l7.72-7.72 1.47 1.35L5.41 20z\"/>\n",
       "  </svg>\n",
       "      </button>\n",
       "      \n",
       "  <style>\n",
       "    .colab-df-container {\n",
       "      display:flex;\n",
       "      flex-wrap:wrap;\n",
       "      gap: 12px;\n",
       "    }\n",
       "\n",
       "    .colab-df-convert {\n",
       "      background-color: #E8F0FE;\n",
       "      border: none;\n",
       "      border-radius: 50%;\n",
       "      cursor: pointer;\n",
       "      display: none;\n",
       "      fill: #1967D2;\n",
       "      height: 32px;\n",
       "      padding: 0 0 0 0;\n",
       "      width: 32px;\n",
       "    }\n",
       "\n",
       "    .colab-df-convert:hover {\n",
       "      background-color: #E2EBFA;\n",
       "      box-shadow: 0px 1px 2px rgba(60, 64, 67, 0.3), 0px 1px 3px 1px rgba(60, 64, 67, 0.15);\n",
       "      fill: #174EA6;\n",
       "    }\n",
       "\n",
       "    [theme=dark] .colab-df-convert {\n",
       "      background-color: #3B4455;\n",
       "      fill: #D2E3FC;\n",
       "    }\n",
       "\n",
       "    [theme=dark] .colab-df-convert:hover {\n",
       "      background-color: #434B5C;\n",
       "      box-shadow: 0px 1px 3px 1px rgba(0, 0, 0, 0.15);\n",
       "      filter: drop-shadow(0px 1px 2px rgba(0, 0, 0, 0.3));\n",
       "      fill: #FFFFFF;\n",
       "    }\n",
       "  </style>\n",
       "\n",
       "      <script>\n",
       "        const buttonEl =\n",
       "          document.querySelector('#df-a059bfa9-fab1-48e8-a350-d7468ee1746d button.colab-df-convert');\n",
       "        buttonEl.style.display =\n",
       "          google.colab.kernel.accessAllowed ? 'block' : 'none';\n",
       "\n",
       "        async function convertToInteractive(key) {\n",
       "          const element = document.querySelector('#df-a059bfa9-fab1-48e8-a350-d7468ee1746d');\n",
       "          const dataTable =\n",
       "            await google.colab.kernel.invokeFunction('convertToInteractive',\n",
       "                                                     [key], {});\n",
       "          if (!dataTable) return;\n",
       "\n",
       "          const docLinkHtml = 'Like what you see? Visit the ' +\n",
       "            '<a target=\"_blank\" href=https://colab.research.google.com/notebooks/data_table.ipynb>data table notebook</a>'\n",
       "            + ' to learn more about interactive tables.';\n",
       "          element.innerHTML = '';\n",
       "          dataTable['output_type'] = 'display_data';\n",
       "          await google.colab.output.renderOutput(dataTable, element);\n",
       "          const docLink = document.createElement('div');\n",
       "          docLink.innerHTML = docLinkHtml;\n",
       "          element.appendChild(docLink);\n",
       "        }\n",
       "      </script>\n",
       "    </div>\n",
       "  </div>\n",
       "  "
      ],
      "text/plain": [
       "Empty DataFrame\n",
       "Columns: [Parameter 1, Parameter 2, Parameter 3, Parameter 4, Parameter 5, Parameter 6, Parameter 7, Parameter 8, Parameter 9, Parameter 10, Parameter 11, Signal_Strength]\n",
       "Index: []"
      ]
     },
     "execution_count": 11,
     "metadata": {},
     "output_type": "execute_result"
    }
   ],
   "source": [
    "signal_df[signal_df.duplicated(keep='first')]"
   ]
  },
  {
   "cell_type": "code",
   "execution_count": 12,
   "metadata": {
    "colab": {
     "base_uri": "https://localhost:8080/"
    },
    "id": "PUsl1g3bMWSA",
    "outputId": "d83dc7ba-f7df-4742-ce22-1f9a0743d864"
   },
   "outputs": [
    {
     "data": {
      "text/plain": [
       "0"
      ]
     },
     "execution_count": 12,
     "metadata": {},
     "output_type": "execute_result"
    }
   ],
   "source": [
    "len(signal_df[signal_df.duplicated(keep=False)])"
   ]
  },
  {
   "cell_type": "markdown",
   "metadata": {
    "id": "gdHT2EKKk46a"
   },
   "source": [
    "### D. Visualise distribution of the target variable [2M]"
   ]
  },
  {
   "cell_type": "code",
   "execution_count": 13,
   "metadata": {
    "colab": {
     "base_uri": "https://localhost:8080/",
     "height": 338
    },
    "id": "IqRP2YKCNJut",
    "outputId": "5b8788b5-0d8e-4480-ee06-39ecbf3c32ae"
   },
   "outputs": [
    {
     "name": "stderr",
     "output_type": "stream",
     "text": [
      "/usr/local/lib/python3.7/dist-packages/seaborn/_decorators.py:43: FutureWarning: Pass the following variable as a keyword arg: x. From version 0.12, the only valid positional argument will be `data`, and passing other arguments without an explicit keyword will result in an error or misinterpretation.\n",
      "  FutureWarning\n"
     ]
    },
    {
     "data": {
      "image/png": "[encoded data removed]",
      "text/plain": [
       "<Figure size 432x288 with 1 Axes>"
      ]
     },
     "metadata": {
      "needs_background": "light"
     },
     "output_type": "display_data"
    }
   ],
   "source": [
    "sns.countplot('Signal_Strength',data=signal_df)\n",
    "\n",
    "plt.show()"
   ]
  },
  {
   "cell_type": "code",
   "execution_count": 14,
   "metadata": {
    "colab": {
     "base_uri": "https://localhost:8080/"
    },
    "id": "DO0kN51lSABN",
    "outputId": "1f5f872b-764c-4b98-f87c-a906871aa353"
   },
   "outputs": [
    {
     "data": {
      "text/plain": [
       "Signal_Strength\n",
       "3     10\n",
       "4     53\n",
       "5    480\n",
       "6    442\n",
       "7    138\n",
       "8     16\n",
       "dtype: int64"
      ]
     },
     "execution_count": 14,
     "metadata": {},
     "output_type": "execute_result"
    }
   ],
   "source": [
    "Signal_Strength_group=signal_df.groupby(['Signal_Strength'])\n",
    "Signal_Strength_group.size()"
   ]
  },
  {
   "cell_type": "markdown",
   "metadata": {
    "id": "runy6dfOlOwp"
   },
   "source": [
    "### E. Share insights from the initial data analysis (at least 2) [2M]"
   ]
  },
  {
   "cell_type": "markdown",
   "metadata": {
    "id": "M4pvHH5rlTJ5"
   },
   "source": [
    "#### i) The data has duplicate records but there are no null values in the data. \n",
    "\n"
   ]
  },
  {
   "cell_type": "markdown",
   "metadata": {
    "id": "zlyI5qR_qr3H"
   },
   "source": [
    "#### ii) It is observed that Target is somewhat unbalanced and class 5 (also 6) in 'Signal_Strength' has the highest count.\n"
   ]
  },
  {
   "cell_type": "code",
   "execution_count": null,
   "metadata": {
    "id": "I_Mvqj5JOKKr"
   },
   "outputs": [],
   "source": []
  },
  {
   "cell_type": "markdown",
   "metadata": {
    "id": "0_SyIYjMlogy"
   },
   "source": [
    "# 2. Data preprocessing [7M]"
   ]
  },
  {
   "cell_type": "markdown",
   "metadata": {
    "id": "8I7K9_ra_A3K"
   },
   "source": [
    "### A. Split the data into X & Y [1M]"
   ]
  },
  {
   "cell_type": "code",
   "execution_count": 15,
   "metadata": {
    "id": "r1NM2FFtOIxJ"
   },
   "outputs": [],
   "source": [
    "# Independent variables\n",
    "X=signal_df.drop('Signal_Strength',axis=1)  \n",
    "\n",
    "# Target variable\n",
    "Y=signal_df['Signal_Strength']               \n"
   ]
  },
  {
   "cell_type": "markdown",
   "metadata": {
    "id": "upyVY771_MRe"
   },
   "source": [
    "### B. Split the data into train & test with 70:30 proportion [1M]"
   ]
  },
  {
   "cell_type": "code",
   "execution_count": 16,
   "metadata": {
    "id": "CvnK9bb5_Qpy"
   },
   "outputs": [],
   "source": [
    "X_Train,X_Test,Y_Train,Y_Test=train_test_split(X, Y, train_size=0.7, random_state=12)"
   ]
  },
  {
   "cell_type": "markdown",
   "metadata": {
    "id": "H0VsWQ-v_VX5"
   },
   "source": [
    "### C. Print shape of all the 4 variables and verify if train and test data is in sync [1M]"
   ]
  },
  {
   "cell_type": "code",
   "execution_count": 17,
   "metadata": {
    "colab": {
     "base_uri": "https://localhost:8080/"
    },
    "id": "bpg6rXvyOieu",
    "outputId": "dcdabcff-2a8c-4044-efaa-ac5c5c538747"
   },
   "outputs": [
    {
     "name": "stdout",
     "output_type": "stream",
     "text": [
      "(797, 11)\n",
      "(342, 11)\n",
      "(797,)\n",
      "(342,)\n"
     ]
    }
   ],
   "source": [
    "# Confirming Matrix size\n",
    "print(X_Train.shape)\n",
    "print(X_Test.shape)\n",
    "print(Y_Train.shape)\n",
    "print(Y_Test.shape)"
   ]
  },
  {
   "cell_type": "markdown",
   "metadata": {
    "id": "hkGAnQrM_iZv"
   },
   "source": [
    "### D. Normalise the train and test data with appropriate method [2M]"
   ]
  },
  {
   "cell_type": "code",
   "execution_count": 18,
   "metadata": {
    "id": "8EyrDpjdO0Qc"
   },
   "outputs": [],
   "source": [
    "# Scaling training data\n",
    "X_Train_S = StandardScaler().fit_transform(X_Train)   \n",
    "\n",
    "# Scaling testing data\n",
    "X_Test_S = StandardScaler().fit_transform(X_Test)  "
   ]
  },
  {
   "cell_type": "markdown",
   "metadata": {
    "id": "qUspT8vF_2C-"
   },
   "source": [
    "### E. Transform Labels into format acceptable by Neural Network  [2M]"
   ]
  },
  {
   "cell_type": "code",
   "execution_count": 19,
   "metadata": {
    "id": "OBdKVKQWSV7-"
   },
   "outputs": [],
   "source": [
    "# Convert to \"one-hot\" vectors using the to_categorical function\n",
    "num_classes = 10\n",
    "y_train = to_categorical(Y_Train, num_classes)\n",
    "y_test_cat=to_categorical(Y_Test,num_classes)"
   ]
  },
  {
   "cell_type": "markdown",
   "metadata": {
    "id": "6Zo9ih3UMrxu"
   },
   "source": [
    "# 3. Model Training & Evaluation using Neural Network [13M]"
   ]
  },
  {
   "cell_type": "markdown",
   "metadata": {
    "id": "YqFYt3feALzj"
   },
   "source": [
    "### A. Design a Neural Network to train a classifier [3M]"
   ]
  },
  {
   "cell_type": "code",
   "execution_count": 20,
   "metadata": {
    "id": "OGKJn0IYfHCx"
   },
   "outputs": [],
   "source": [
    "model_class = Sequential()\n",
    "model_class.add(Dense(64, activation='relu', kernel_initializer='he_uniform'))\n",
    "model_class.add(Dense(32, activation='relu', kernel_initializer='he_uniform'))\n",
    "model_class.add(Dense(32, activation='relu', kernel_initializer='he_uniform'))\n",
    "model_class.add(Dense(16, activation='relu', kernel_initializer='he_uniform'))\n",
    "model_class.add(Dense(10, activation='softmax'))"
   ]
  },
  {
   "cell_type": "markdown",
   "metadata": {
    "id": "22m-eDUyAVFl"
   },
   "source": [
    "### B. Train the classifier using previously designed Architecture [2M]"
   ]
  },
  {
   "cell_type": "code",
   "execution_count": 21,
   "metadata": {
    "colab": {
     "base_uri": "https://localhost:8080/"
    },
    "id": "IYYjOxwifZHB",
    "outputId": "ba793d69-cbe4-49ad-d47a-9e96312abc20"
   },
   "outputs": [
    {
     "name": "stdout",
     "output_type": "stream",
     "text": [
      "Epoch 1/100\n"
     ]
    },
    {
     "name": "stderr",
     "output_type": "stream",
     "text": [
      "/usr/local/lib/python3.7/dist-packages/keras/optimizer_v2/adam.py:105: UserWarning: The `lr` argument is deprecated, use `learning_rate` instead.\n",
      "  super(Adam, self).__init__(name, **kwargs)\n"
     ]
    },
    {
     "name": "stdout",
     "output_type": "stream",
     "text": [
      "40/40 [==============================] - 1s 6ms/step - loss: 2.0417 - accuracy: 0.2610 - val_loss: 1.5846 - val_accuracy: 0.4240\n",
      "Epoch 2/100\n",
      "40/40 [==============================] - 0s 2ms/step - loss: 1.3126 - accuracy: 0.4605 - val_loss: 1.2959 - val_accuracy: 0.5146\n",
      "Epoch 3/100\n",
      "40/40 [==============================] - 0s 2ms/step - loss: 1.1424 - accuracy: 0.5684 - val_loss: 1.2157 - val_accuracy: 0.5351\n",
      "Epoch 4/100\n",
      "40/40 [==============================] - 0s 2ms/step - loss: 1.0622 - accuracy: 0.5859 - val_loss: 1.1712 - val_accuracy: 0.5789\n",
      "Epoch 5/100\n",
      "40/40 [==============================] - 0s 2ms/step - loss: 1.0287 - accuracy: 0.5947 - val_loss: 1.1568 - val_accuracy: 0.5614\n",
      "Epoch 6/100\n",
      "40/40 [==============================] - 0s 2ms/step - loss: 0.9828 - accuracy: 0.6073 - val_loss: 1.1517 - val_accuracy: 0.5556\n",
      "Epoch 7/100\n",
      "40/40 [==============================] - 0s 2ms/step - loss: 0.9497 - accuracy: 0.6223 - val_loss: 1.1536 - val_accuracy: 0.5292\n",
      "Epoch 8/100\n",
      "40/40 [==============================] - 0s 2ms/step - loss: 0.9192 - accuracy: 0.6286 - val_loss: 1.1588 - val_accuracy: 0.5526\n",
      "Epoch 9/100\n",
      "40/40 [==============================] - 0s 3ms/step - loss: 0.9039 - accuracy: 0.6349 - val_loss: 1.1970 - val_accuracy: 0.5351\n",
      "Epoch 10/100\n",
      "40/40 [==============================] - 0s 2ms/step - loss: 0.8620 - accuracy: 0.6449 - val_loss: 1.1878 - val_accuracy: 0.5292\n",
      "Epoch 11/100\n",
      "40/40 [==============================] - 0s 2ms/step - loss: 0.8558 - accuracy: 0.6512 - val_loss: 1.1831 - val_accuracy: 0.5351\n",
      "Epoch 12/100\n",
      "40/40 [==============================] - 0s 2ms/step - loss: 0.8259 - accuracy: 0.6562 - val_loss: 1.1833 - val_accuracy: 0.5614\n",
      "Epoch 13/100\n",
      "40/40 [==============================] - 0s 2ms/step - loss: 0.8166 - accuracy: 0.6487 - val_loss: 1.2119 - val_accuracy: 0.5263\n",
      "Epoch 14/100\n",
      "40/40 [==============================] - 0s 2ms/step - loss: 0.7951 - accuracy: 0.6562 - val_loss: 1.2084 - val_accuracy: 0.5409\n",
      "Epoch 15/100\n",
      "40/40 [==============================] - 0s 2ms/step - loss: 0.7813 - accuracy: 0.6700 - val_loss: 1.2120 - val_accuracy: 0.5263\n",
      "Epoch 16/100\n",
      "40/40 [==============================] - 0s 2ms/step - loss: 0.7665 - accuracy: 0.6788 - val_loss: 1.2292 - val_accuracy: 0.5322\n",
      "Epoch 17/100\n",
      "40/40 [==============================] - 0s 2ms/step - loss: 0.7466 - accuracy: 0.6851 - val_loss: 1.2457 - val_accuracy: 0.5322\n",
      "Epoch 18/100\n",
      "40/40 [==============================] - 0s 2ms/step - loss: 0.7326 - accuracy: 0.6888 - val_loss: 1.2362 - val_accuracy: 0.5673\n",
      "Epoch 19/100\n",
      "40/40 [==============================] - 0s 2ms/step - loss: 0.7179 - accuracy: 0.6951 - val_loss: 1.2738 - val_accuracy: 0.5205\n",
      "Epoch 20/100\n",
      "40/40 [==============================] - 0s 2ms/step - loss: 0.7074 - accuracy: 0.6888 - val_loss: 1.2754 - val_accuracy: 0.5292\n",
      "Epoch 21/100\n",
      "40/40 [==============================] - 0s 2ms/step - loss: 0.6953 - accuracy: 0.6989 - val_loss: 1.2725 - val_accuracy: 0.5468\n",
      "Epoch 22/100\n",
      "40/40 [==============================] - 0s 2ms/step - loss: 0.6828 - accuracy: 0.7102 - val_loss: 1.2899 - val_accuracy: 0.5439\n",
      "Epoch 23/100\n",
      "40/40 [==============================] - 0s 2ms/step - loss: 0.6773 - accuracy: 0.7177 - val_loss: 1.3204 - val_accuracy: 0.5439\n",
      "Epoch 24/100\n",
      "40/40 [==============================] - 0s 2ms/step - loss: 0.6495 - accuracy: 0.7290 - val_loss: 1.3595 - val_accuracy: 0.5439\n",
      "Epoch 25/100\n",
      "40/40 [==============================] - 0s 2ms/step - loss: 0.6432 - accuracy: 0.7202 - val_loss: 1.3221 - val_accuracy: 0.5409\n",
      "Epoch 26/100\n",
      "40/40 [==============================] - 0s 2ms/step - loss: 0.6273 - accuracy: 0.7353 - val_loss: 1.3713 - val_accuracy: 0.5380\n",
      "Epoch 27/100\n",
      "40/40 [==============================] - 0s 2ms/step - loss: 0.6126 - accuracy: 0.7453 - val_loss: 1.4003 - val_accuracy: 0.5439\n",
      "Epoch 28/100\n",
      "40/40 [==============================] - 0s 2ms/step - loss: 0.6017 - accuracy: 0.7440 - val_loss: 1.4066 - val_accuracy: 0.5409\n",
      "Epoch 29/100\n",
      "40/40 [==============================] - 0s 2ms/step - loss: 0.5906 - accuracy: 0.7491 - val_loss: 1.4270 - val_accuracy: 0.5526\n",
      "Epoch 30/100\n",
      "40/40 [==============================] - 0s 2ms/step - loss: 0.5816 - accuracy: 0.7440 - val_loss: 1.4726 - val_accuracy: 0.5175\n",
      "Epoch 31/100\n",
      "40/40 [==============================] - 0s 2ms/step - loss: 0.5664 - accuracy: 0.7767 - val_loss: 1.4799 - val_accuracy: 0.5351\n",
      "Epoch 32/100\n",
      "40/40 [==============================] - 0s 2ms/step - loss: 0.5533 - accuracy: 0.7716 - val_loss: 1.4988 - val_accuracy: 0.5205\n",
      "Epoch 33/100\n",
      "40/40 [==============================] - 0s 2ms/step - loss: 0.5366 - accuracy: 0.7792 - val_loss: 1.5047 - val_accuracy: 0.5643\n",
      "Epoch 34/100\n",
      "40/40 [==============================] - 0s 2ms/step - loss: 0.5191 - accuracy: 0.7892 - val_loss: 1.5607 - val_accuracy: 0.5146\n",
      "Epoch 35/100\n",
      "40/40 [==============================] - 0s 2ms/step - loss: 0.5172 - accuracy: 0.7817 - val_loss: 1.5265 - val_accuracy: 0.5322\n",
      "Epoch 36/100\n",
      "40/40 [==============================] - 0s 2ms/step - loss: 0.5088 - accuracy: 0.7980 - val_loss: 1.5727 - val_accuracy: 0.5409\n",
      "Epoch 37/100\n",
      "40/40 [==============================] - 0s 2ms/step - loss: 0.5017 - accuracy: 0.7992 - val_loss: 1.5659 - val_accuracy: 0.5322\n",
      "Epoch 38/100\n",
      "40/40 [==============================] - 0s 2ms/step - loss: 0.4929 - accuracy: 0.8005 - val_loss: 1.6411 - val_accuracy: 0.5322\n",
      "Epoch 39/100\n",
      "40/40 [==============================] - 0s 2ms/step - loss: 0.4776 - accuracy: 0.8156 - val_loss: 1.6605 - val_accuracy: 0.5234\n",
      "Epoch 40/100\n",
      "40/40 [==============================] - 0s 2ms/step - loss: 0.4702 - accuracy: 0.8156 - val_loss: 1.6911 - val_accuracy: 0.5205\n",
      "Epoch 41/100\n",
      "40/40 [==============================] - 0s 2ms/step - loss: 0.4692 - accuracy: 0.8156 - val_loss: 1.6862 - val_accuracy: 0.5205\n",
      "Epoch 42/100\n",
      "40/40 [==============================] - 0s 2ms/step - loss: 0.4514 - accuracy: 0.8156 - val_loss: 1.6847 - val_accuracy: 0.5205\n",
      "Epoch 43/100\n",
      "40/40 [==============================] - 0s 2ms/step - loss: 0.4360 - accuracy: 0.8281 - val_loss: 1.7299 - val_accuracy: 0.5175\n",
      "Epoch 44/100\n",
      "40/40 [==============================] - 0s 3ms/step - loss: 0.4316 - accuracy: 0.8269 - val_loss: 1.7405 - val_accuracy: 0.5234\n",
      "Epoch 45/100\n",
      "40/40 [==============================] - 0s 2ms/step - loss: 0.4156 - accuracy: 0.8394 - val_loss: 1.7672 - val_accuracy: 0.5292\n",
      "Epoch 46/100\n",
      "40/40 [==============================] - 0s 2ms/step - loss: 0.4117 - accuracy: 0.8344 - val_loss: 1.8594 - val_accuracy: 0.5351\n",
      "Epoch 47/100\n",
      "40/40 [==============================] - 0s 2ms/step - loss: 0.4064 - accuracy: 0.8369 - val_loss: 1.8627 - val_accuracy: 0.5088\n",
      "Epoch 48/100\n",
      "40/40 [==============================] - 0s 2ms/step - loss: 0.3960 - accuracy: 0.8457 - val_loss: 1.9065 - val_accuracy: 0.5526\n",
      "Epoch 49/100\n",
      "40/40 [==============================] - 0s 2ms/step - loss: 0.3856 - accuracy: 0.8595 - val_loss: 1.8833 - val_accuracy: 0.5263\n",
      "Epoch 50/100\n",
      "40/40 [==============================] - 0s 2ms/step - loss: 0.3752 - accuracy: 0.8620 - val_loss: 1.9357 - val_accuracy: 0.5263\n",
      "Epoch 51/100\n",
      "40/40 [==============================] - 0s 2ms/step - loss: 0.3599 - accuracy: 0.8545 - val_loss: 2.0126 - val_accuracy: 0.5351\n",
      "Epoch 52/100\n",
      "40/40 [==============================] - 0s 2ms/step - loss: 0.3568 - accuracy: 0.8620 - val_loss: 2.0156 - val_accuracy: 0.5263\n",
      "Epoch 53/100\n",
      "40/40 [==============================] - 0s 2ms/step - loss: 0.3477 - accuracy: 0.8695 - val_loss: 2.0390 - val_accuracy: 0.5088\n",
      "Epoch 54/100\n",
      "40/40 [==============================] - 0s 2ms/step - loss: 0.3397 - accuracy: 0.8783 - val_loss: 2.0171 - val_accuracy: 0.5058\n",
      "Epoch 55/100\n",
      "40/40 [==============================] - 0s 2ms/step - loss: 0.3285 - accuracy: 0.8795 - val_loss: 2.0210 - val_accuracy: 0.5322\n",
      "Epoch 56/100\n",
      "40/40 [==============================] - 0s 2ms/step - loss: 0.3197 - accuracy: 0.9009 - val_loss: 2.0756 - val_accuracy: 0.5175\n",
      "Epoch 57/100\n",
      "40/40 [==============================] - 0s 2ms/step - loss: 0.3174 - accuracy: 0.9009 - val_loss: 2.1136 - val_accuracy: 0.5146\n",
      "Epoch 58/100\n",
      "40/40 [==============================] - 0s 2ms/step - loss: 0.3060 - accuracy: 0.8971 - val_loss: 2.1456 - val_accuracy: 0.5088\n",
      "Epoch 59/100\n",
      "40/40 [==============================] - 0s 2ms/step - loss: 0.2992 - accuracy: 0.8971 - val_loss: 2.1981 - val_accuracy: 0.5058\n",
      "Epoch 60/100\n",
      "40/40 [==============================] - 0s 2ms/step - loss: 0.3032 - accuracy: 0.8959 - val_loss: 2.1814 - val_accuracy: 0.5117\n",
      "Epoch 61/100\n",
      "40/40 [==============================] - 0s 2ms/step - loss: 0.2861 - accuracy: 0.9034 - val_loss: 2.2601 - val_accuracy: 0.5175\n",
      "Epoch 62/100\n",
      "40/40 [==============================] - 0s 2ms/step - loss: 0.2773 - accuracy: 0.9172 - val_loss: 2.2870 - val_accuracy: 0.5175\n",
      "Epoch 63/100\n",
      "40/40 [==============================] - 0s 2ms/step - loss: 0.2772 - accuracy: 0.9097 - val_loss: 2.3078 - val_accuracy: 0.5146\n",
      "Epoch 64/100\n",
      "40/40 [==============================] - 0s 2ms/step - loss: 0.2627 - accuracy: 0.9184 - val_loss: 2.3527 - val_accuracy: 0.5205\n",
      "Epoch 65/100\n",
      "40/40 [==============================] - 0s 2ms/step - loss: 0.2520 - accuracy: 0.9159 - val_loss: 2.3596 - val_accuracy: 0.5205\n",
      "Epoch 66/100\n",
      "40/40 [==============================] - 0s 2ms/step - loss: 0.2466 - accuracy: 0.9260 - val_loss: 2.3820 - val_accuracy: 0.5322\n",
      "Epoch 67/100\n",
      "40/40 [==============================] - 0s 2ms/step - loss: 0.2434 - accuracy: 0.9260 - val_loss: 2.3922 - val_accuracy: 0.5117\n",
      "Epoch 68/100\n",
      "40/40 [==============================] - 0s 3ms/step - loss: 0.2493 - accuracy: 0.9122 - val_loss: 2.4436 - val_accuracy: 0.5263\n",
      "Epoch 69/100\n",
      "40/40 [==============================] - 0s 2ms/step - loss: 0.2306 - accuracy: 0.9348 - val_loss: 2.4729 - val_accuracy: 0.5088\n",
      "Epoch 70/100\n",
      "40/40 [==============================] - 0s 2ms/step - loss: 0.2272 - accuracy: 0.9285 - val_loss: 2.5193 - val_accuracy: 0.5058\n",
      "Epoch 71/100\n",
      "40/40 [==============================] - 0s 2ms/step - loss: 0.2117 - accuracy: 0.9435 - val_loss: 2.5695 - val_accuracy: 0.5263\n",
      "Epoch 72/100\n",
      "40/40 [==============================] - 0s 2ms/step - loss: 0.2057 - accuracy: 0.9410 - val_loss: 2.6062 - val_accuracy: 0.5117\n",
      "Epoch 73/100\n",
      "40/40 [==============================] - 0s 2ms/step - loss: 0.2021 - accuracy: 0.9335 - val_loss: 2.6688 - val_accuracy: 0.5205\n",
      "Epoch 74/100\n",
      "40/40 [==============================] - 0s 2ms/step - loss: 0.1930 - accuracy: 0.9410 - val_loss: 2.6399 - val_accuracy: 0.5263\n",
      "Epoch 75/100\n",
      "40/40 [==============================] - 0s 2ms/step - loss: 0.1870 - accuracy: 0.9460 - val_loss: 2.7470 - val_accuracy: 0.5146\n",
      "Epoch 76/100\n",
      "40/40 [==============================] - 0s 2ms/step - loss: 0.1844 - accuracy: 0.9573 - val_loss: 2.7383 - val_accuracy: 0.5322\n",
      "Epoch 77/100\n",
      "40/40 [==============================] - 0s 2ms/step - loss: 0.1810 - accuracy: 0.9435 - val_loss: 2.7934 - val_accuracy: 0.5175\n",
      "Epoch 78/100\n",
      "40/40 [==============================] - 0s 2ms/step - loss: 0.1687 - accuracy: 0.9548 - val_loss: 2.8295 - val_accuracy: 0.5117\n",
      "Epoch 79/100\n",
      "40/40 [==============================] - 0s 2ms/step - loss: 0.1689 - accuracy: 0.9511 - val_loss: 2.9037 - val_accuracy: 0.5146\n",
      "Epoch 80/100\n",
      "40/40 [==============================] - 0s 2ms/step - loss: 0.1732 - accuracy: 0.9536 - val_loss: 2.8886 - val_accuracy: 0.5146\n",
      "Epoch 81/100\n",
      "40/40 [==============================] - 0s 2ms/step - loss: 0.2234 - accuracy: 0.9398 - val_loss: 2.8310 - val_accuracy: 0.5088\n",
      "Epoch 82/100\n",
      "40/40 [==============================] - 0s 2ms/step - loss: 0.1760 - accuracy: 0.9473 - val_loss: 2.8820 - val_accuracy: 0.5380\n",
      "Epoch 83/100\n",
      "40/40 [==============================] - 0s 2ms/step - loss: 0.1576 - accuracy: 0.9573 - val_loss: 2.9344 - val_accuracy: 0.5234\n",
      "Epoch 84/100\n",
      "40/40 [==============================] - 0s 2ms/step - loss: 0.1504 - accuracy: 0.9598 - val_loss: 2.9762 - val_accuracy: 0.5117\n",
      "Epoch 85/100\n",
      "40/40 [==============================] - 0s 2ms/step - loss: 0.1446 - accuracy: 0.9611 - val_loss: 3.0565 - val_accuracy: 0.5175\n",
      "Epoch 86/100\n",
      "40/40 [==============================] - 0s 2ms/step - loss: 0.1387 - accuracy: 0.9624 - val_loss: 3.0496 - val_accuracy: 0.5088\n",
      "Epoch 87/100\n",
      "40/40 [==============================] - 0s 3ms/step - loss: 0.1328 - accuracy: 0.9674 - val_loss: 3.1137 - val_accuracy: 0.5175\n",
      "Epoch 88/100\n",
      "40/40 [==============================] - 0s 2ms/step - loss: 0.1358 - accuracy: 0.9636 - val_loss: 3.2073 - val_accuracy: 0.5058\n",
      "Epoch 89/100\n",
      "40/40 [==============================] - 0s 2ms/step - loss: 0.1287 - accuracy: 0.9649 - val_loss: 3.2394 - val_accuracy: 0.5175\n",
      "Epoch 90/100\n",
      "40/40 [==============================] - 0s 2ms/step - loss: 0.1253 - accuracy: 0.9649 - val_loss: 3.2407 - val_accuracy: 0.5088\n",
      "Epoch 91/100\n",
      "40/40 [==============================] - 0s 2ms/step - loss: 0.1241 - accuracy: 0.9661 - val_loss: 3.2680 - val_accuracy: 0.5029\n",
      "Epoch 92/100\n",
      "40/40 [==============================] - 0s 2ms/step - loss: 0.1297 - accuracy: 0.9674 - val_loss: 3.2974 - val_accuracy: 0.4825\n",
      "Epoch 93/100\n",
      "40/40 [==============================] - 0s 2ms/step - loss: 0.1249 - accuracy: 0.9661 - val_loss: 3.2823 - val_accuracy: 0.5088\n",
      "Epoch 94/100\n",
      "40/40 [==============================] - 0s 2ms/step - loss: 0.1282 - accuracy: 0.9624 - val_loss: 3.4510 - val_accuracy: 0.5117\n",
      "Epoch 95/100\n",
      "40/40 [==============================] - 0s 2ms/step - loss: 0.1234 - accuracy: 0.9674 - val_loss: 3.4111 - val_accuracy: 0.5175\n",
      "Epoch 96/100\n",
      "40/40 [==============================] - 0s 2ms/step - loss: 0.1109 - accuracy: 0.9711 - val_loss: 3.5624 - val_accuracy: 0.5146\n",
      "Epoch 97/100\n",
      "40/40 [==============================] - 0s 2ms/step - loss: 0.1498 - accuracy: 0.9586 - val_loss: 3.3831 - val_accuracy: 0.4912\n",
      "Epoch 98/100\n",
      "40/40 [==============================] - 0s 2ms/step - loss: 0.1365 - accuracy: 0.9661 - val_loss: 3.4640 - val_accuracy: 0.4971\n",
      "Epoch 99/100\n",
      "40/40 [==============================] - 0s 2ms/step - loss: 0.1031 - accuracy: 0.9737 - val_loss: 3.5872 - val_accuracy: 0.5117\n",
      "Epoch 100/100\n",
      "40/40 [==============================] - 0s 2ms/step - loss: 0.1014 - accuracy: 0.9762 - val_loss: 3.5811 - val_accuracy: 0.5175\n"
     ]
    }
   ],
   "source": [
    "adam = optimizers.Adam(lr=1e-3)\n",
    "\n",
    "# Compile the model\n",
    "model_class.compile(loss=\"categorical_crossentropy\", metrics=[\"accuracy\"], optimizer=adam)\n",
    "\n",
    "# Fit the model\n",
    "history=model_class.fit(x=X_Train_S, y=y_train, batch_size=20, epochs=100, validation_data=(X_Test_S, y_test_cat))"
   ]
  },
  {
   "cell_type": "markdown",
   "metadata": {
    "id": "QI8TCHM7Abb4"
   },
   "source": [
    "### C. Plot 2 separate visuals [3M]"
   ]
  },
  {
   "cell_type": "markdown",
   "metadata": {
    "id": "S5F9DIIJAnnV"
   },
   "source": [
    "#### i) Training Loss and Validation Loss\n"
   ]
  },
  {
   "cell_type": "code",
   "execution_count": 22,
   "metadata": {
    "colab": {
     "base_uri": "https://localhost:8080/",
     "height": 295
    },
    "id": "c_004G-lltaX",
    "outputId": "61f09819-5e5b-43bc-9011-cf169ec3551f"
   },
   "outputs": [
    {
     "data": {
      "image/png": "[encoded data removed]",
      "text/plain": [
       "<Figure size 432x288 with 1 Axes>"
      ]
     },
     "metadata": {
      "needs_background": "light"
     },
     "output_type": "display_data"
    }
   ],
   "source": [
    "loss, accuracy  = model_class.evaluate(X_Test, y_test_cat, verbose=False)\n",
    "\n",
    "plt.plot(history.history['loss'])\n",
    "plt.plot(history.history['val_loss'])\n",
    "plt.title('model loss')\n",
    "plt.ylabel('loss')\n",
    "plt.xlabel('epoch')\n",
    "plt.legend(['training', 'validation'], loc='best')\n",
    "plt.show()\n",
    "    \n"
   ]
  },
  {
   "cell_type": "markdown",
   "metadata": {
    "id": "_XdlgqqwAp0Y"
   },
   "source": [
    "#### ii) Training Accuracy and Validation Accuracy"
   ]
  },
  {
   "cell_type": "code",
   "execution_count": 23,
   "metadata": {
    "colab": {
     "base_uri": "https://localhost:8080/",
     "height": 295
    },
    "id": "DyN7fkD8sA4D",
    "outputId": "67d97540-3460-4516-88f8-0bd5fe3650d2"
   },
   "outputs": [
    {
     "data": {
      "image/png": "[encoded data removed]",
      "text/plain": [
       "<Figure size 432x288 with 1 Axes>"
      ]
     },
     "metadata": {
      "needs_background": "light"
     },
     "output_type": "display_data"
    }
   ],
   "source": [
    "plt.plot(history.history['accuracy'])\n",
    "plt.plot(history.history['val_accuracy'])\n",
    "plt.title('model accuracy')\n",
    "plt.ylabel('accuracy')\n",
    "plt.xlabel('epoch')\n",
    "plt.legend(['training', 'validation'], loc='best')\n",
    "plt.show()"
   ]
  },
  {
   "cell_type": "markdown",
   "metadata": {
    "id": "75uWxl6CBC51"
   },
   "source": [
    "### D. Design new architecture/update existing architecture in attempt to improve the performance of the model [2M]"
   ]
  },
  {
   "cell_type": "code",
   "execution_count": 24,
   "metadata": {
    "id": "Ua9ysdoynrgY"
   },
   "outputs": [],
   "source": [
    "model2_class = Sequential()\n",
    "model2_class.add(Dense(64, activation='relu', kernel_initializer='he_uniform'))\n",
    "\n",
    "model2_class.add(Dense(32, activation='relu', kernel_initializer='he_uniform'))\n",
    "\n",
    "model2_class.add(Dense(32, activation='relu', kernel_initializer='he_uniform'))\n",
    "model2_class.add(Dense(16, activation='relu', kernel_initializer='he_uniform'))\n",
    "model2_class.add(Dropout(0.5))\n",
    "model2_class.add(BatchNormalization())\n",
    "model2_class.add(Dense(10, activation='softmax'))"
   ]
  },
  {
   "cell_type": "code",
   "execution_count": 25,
   "metadata": {
    "colab": {
     "base_uri": "https://localhost:8080/"
    },
    "id": "IUJfNLL8oO6m",
    "outputId": "92c8b4fb-2c08-4164-d60e-e8672c776662"
   },
   "outputs": [
    {
     "name": "stdout",
     "output_type": "stream",
     "text": [
      "Epoch 1/100\n"
     ]
    },
    {
     "name": "stderr",
     "output_type": "stream",
     "text": [
      "/usr/local/lib/python3.7/dist-packages/keras/optimizer_v2/adam.py:105: UserWarning: The `lr` argument is deprecated, use `learning_rate` instead.\n",
      "  super(Adam, self).__init__(name, **kwargs)\n"
     ]
    },
    {
     "name": "stdout",
     "output_type": "stream",
     "text": [
      "40/40 [==============================] - 1s 6ms/step - loss: 2.5771 - accuracy: 0.1518 - val_loss: 2.2434 - val_accuracy: 0.2105\n",
      "Epoch 2/100\n",
      "40/40 [==============================] - 0s 2ms/step - loss: 2.2834 - accuracy: 0.2396 - val_loss: 2.0761 - val_accuracy: 0.4035\n",
      "Epoch 3/100\n",
      "40/40 [==============================] - 0s 2ms/step - loss: 2.0538 - accuracy: 0.3400 - val_loss: 1.9471 - val_accuracy: 0.4708\n",
      "Epoch 4/100\n",
      "40/40 [==============================] - 0s 2ms/step - loss: 1.9075 - accuracy: 0.4379 - val_loss: 1.8213 - val_accuracy: 0.4678\n",
      "Epoch 5/100\n",
      "40/40 [==============================] - 0s 2ms/step - loss: 1.6959 - accuracy: 0.5006 - val_loss: 1.7003 - val_accuracy: 0.4942\n",
      "Epoch 6/100\n",
      "40/40 [==============================] - 0s 2ms/step - loss: 1.5936 - accuracy: 0.5031 - val_loss: 1.5665 - val_accuracy: 0.5088\n",
      "Epoch 7/100\n",
      "40/40 [==============================] - 0s 3ms/step - loss: 1.4986 - accuracy: 0.5370 - val_loss: 1.4452 - val_accuracy: 0.5409\n",
      "Epoch 8/100\n",
      "40/40 [==============================] - 0s 2ms/step - loss: 1.3888 - accuracy: 0.5295 - val_loss: 1.3409 - val_accuracy: 0.5292\n",
      "Epoch 9/100\n",
      "40/40 [==============================] - 0s 2ms/step - loss: 1.3089 - accuracy: 0.5420 - val_loss: 1.2879 - val_accuracy: 0.5292\n",
      "Epoch 10/100\n",
      "40/40 [==============================] - 0s 3ms/step - loss: 1.2148 - accuracy: 0.5671 - val_loss: 1.2519 - val_accuracy: 0.5292\n",
      "Epoch 11/100\n",
      "40/40 [==============================] - 0s 2ms/step - loss: 1.1581 - accuracy: 0.5571 - val_loss: 1.2368 - val_accuracy: 0.5292\n",
      "Epoch 12/100\n",
      "40/40 [==============================] - 0s 2ms/step - loss: 1.1475 - accuracy: 0.5709 - val_loss: 1.2041 - val_accuracy: 0.5292\n",
      "Epoch 13/100\n",
      "40/40 [==============================] - 0s 2ms/step - loss: 1.1381 - accuracy: 0.5646 - val_loss: 1.2019 - val_accuracy: 0.5146\n",
      "Epoch 14/100\n",
      "40/40 [==============================] - 0s 2ms/step - loss: 1.1069 - accuracy: 0.5571 - val_loss: 1.1937 - val_accuracy: 0.5322\n",
      "Epoch 15/100\n",
      "40/40 [==============================] - 0s 2ms/step - loss: 1.1047 - accuracy: 0.5709 - val_loss: 1.1759 - val_accuracy: 0.5175\n",
      "Epoch 16/100\n",
      "40/40 [==============================] - 0s 3ms/step - loss: 1.1057 - accuracy: 0.5621 - val_loss: 1.1858 - val_accuracy: 0.5292\n",
      "Epoch 17/100\n",
      "40/40 [==============================] - 0s 2ms/step - loss: 1.1116 - accuracy: 0.5433 - val_loss: 1.1844 - val_accuracy: 0.5234\n",
      "Epoch 18/100\n",
      "40/40 [==============================] - 0s 2ms/step - loss: 1.0587 - accuracy: 0.5671 - val_loss: 1.2098 - val_accuracy: 0.5322\n",
      "Epoch 19/100\n",
      "40/40 [==============================] - 0s 2ms/step - loss: 1.0745 - accuracy: 0.5583 - val_loss: 1.2676 - val_accuracy: 0.5205\n",
      "Epoch 20/100\n",
      "40/40 [==============================] - 0s 3ms/step - loss: 1.0516 - accuracy: 0.5797 - val_loss: 1.1771 - val_accuracy: 0.5292\n",
      "Epoch 21/100\n",
      "40/40 [==============================] - 0s 3ms/step - loss: 1.0679 - accuracy: 0.5621 - val_loss: 1.1608 - val_accuracy: 0.5351\n",
      "Epoch 22/100\n",
      "40/40 [==============================] - 0s 3ms/step - loss: 1.0217 - accuracy: 0.5772 - val_loss: 1.1511 - val_accuracy: 0.5292\n",
      "Epoch 23/100\n",
      "40/40 [==============================] - 0s 2ms/step - loss: 1.0208 - accuracy: 0.5947 - val_loss: 1.1368 - val_accuracy: 0.5322\n",
      "Epoch 24/100\n",
      "40/40 [==============================] - 0s 2ms/step - loss: 1.0106 - accuracy: 0.5872 - val_loss: 1.1169 - val_accuracy: 0.5497\n",
      "Epoch 25/100\n",
      "40/40 [==============================] - 0s 2ms/step - loss: 1.0208 - accuracy: 0.5621 - val_loss: 1.1057 - val_accuracy: 0.5322\n",
      "Epoch 26/100\n",
      "40/40 [==============================] - 0s 2ms/step - loss: 0.9866 - accuracy: 0.5872 - val_loss: 1.1237 - val_accuracy: 0.5409\n",
      "Epoch 27/100\n",
      "40/40 [==============================] - 0s 2ms/step - loss: 1.0108 - accuracy: 0.5897 - val_loss: 1.1220 - val_accuracy: 0.5439\n",
      "Epoch 28/100\n",
      "40/40 [==============================] - 0s 3ms/step - loss: 1.0160 - accuracy: 0.5872 - val_loss: 1.0917 - val_accuracy: 0.5468\n",
      "Epoch 29/100\n",
      "40/40 [==============================] - 0s 3ms/step - loss: 1.0202 - accuracy: 0.5784 - val_loss: 1.0996 - val_accuracy: 0.5380\n",
      "Epoch 30/100\n",
      "40/40 [==============================] - 0s 2ms/step - loss: 0.9908 - accuracy: 0.5822 - val_loss: 1.0981 - val_accuracy: 0.5526\n",
      "Epoch 31/100\n",
      "40/40 [==============================] - 0s 2ms/step - loss: 0.9827 - accuracy: 0.5997 - val_loss: 1.1221 - val_accuracy: 0.5468\n",
      "Epoch 32/100\n",
      "40/40 [==============================] - 0s 2ms/step - loss: 0.9859 - accuracy: 0.5897 - val_loss: 1.1019 - val_accuracy: 0.5585\n",
      "Epoch 33/100\n",
      "40/40 [==============================] - 0s 3ms/step - loss: 1.0049 - accuracy: 0.5822 - val_loss: 1.1295 - val_accuracy: 0.5468\n",
      "Epoch 34/100\n",
      "40/40 [==============================] - 0s 2ms/step - loss: 0.9637 - accuracy: 0.6161 - val_loss: 1.1077 - val_accuracy: 0.5585\n",
      "Epoch 35/100\n",
      "40/40 [==============================] - 0s 2ms/step - loss: 0.9469 - accuracy: 0.5910 - val_loss: 1.1247 - val_accuracy: 0.5556\n",
      "Epoch 36/100\n",
      "40/40 [==============================] - 0s 2ms/step - loss: 0.9714 - accuracy: 0.5922 - val_loss: 1.1197 - val_accuracy: 0.5556\n",
      "Epoch 37/100\n",
      "40/40 [==============================] - 0s 2ms/step - loss: 0.9550 - accuracy: 0.6186 - val_loss: 1.0976 - val_accuracy: 0.5526\n",
      "Epoch 38/100\n",
      "40/40 [==============================] - 0s 3ms/step - loss: 0.9551 - accuracy: 0.5960 - val_loss: 1.0958 - val_accuracy: 0.5585\n",
      "Epoch 39/100\n",
      "40/40 [==============================] - 0s 3ms/step - loss: 0.9822 - accuracy: 0.5759 - val_loss: 1.0938 - val_accuracy: 0.5643\n",
      "Epoch 40/100\n",
      "40/40 [==============================] - 0s 2ms/step - loss: 0.9713 - accuracy: 0.6023 - val_loss: 1.0877 - val_accuracy: 0.5643\n",
      "Epoch 41/100\n",
      "40/40 [==============================] - 0s 2ms/step - loss: 0.9419 - accuracy: 0.6161 - val_loss: 1.1002 - val_accuracy: 0.5497\n",
      "Epoch 42/100\n",
      "40/40 [==============================] - 0s 3ms/step - loss: 0.9693 - accuracy: 0.5885 - val_loss: 1.1094 - val_accuracy: 0.5468\n",
      "Epoch 43/100\n",
      "40/40 [==============================] - 0s 2ms/step - loss: 0.9213 - accuracy: 0.6173 - val_loss: 1.0838 - val_accuracy: 0.5673\n",
      "Epoch 44/100\n",
      "40/40 [==============================] - 0s 2ms/step - loss: 0.8954 - accuracy: 0.6462 - val_loss: 1.1141 - val_accuracy: 0.5556\n",
      "Epoch 45/100\n",
      "40/40 [==============================] - 0s 2ms/step - loss: 0.9372 - accuracy: 0.6236 - val_loss: 1.1013 - val_accuracy: 0.5497\n",
      "Epoch 46/100\n",
      "40/40 [==============================] - 0s 2ms/step - loss: 0.9413 - accuracy: 0.6148 - val_loss: 1.1177 - val_accuracy: 0.5614\n",
      "Epoch 47/100\n",
      "40/40 [==============================] - 0s 2ms/step - loss: 0.9553 - accuracy: 0.6098 - val_loss: 1.1004 - val_accuracy: 0.5556\n",
      "Epoch 48/100\n",
      "40/40 [==============================] - 0s 2ms/step - loss: 0.9144 - accuracy: 0.5997 - val_loss: 1.0916 - val_accuracy: 0.5643\n",
      "Epoch 49/100\n",
      "40/40 [==============================] - 0s 3ms/step - loss: 0.9139 - accuracy: 0.6035 - val_loss: 1.1069 - val_accuracy: 0.5439\n",
      "Epoch 50/100\n",
      "40/40 [==============================] - 0s 2ms/step - loss: 0.8796 - accuracy: 0.6437 - val_loss: 1.1250 - val_accuracy: 0.5556\n",
      "Epoch 51/100\n",
      "40/40 [==============================] - 0s 2ms/step - loss: 0.9079 - accuracy: 0.6424 - val_loss: 1.1404 - val_accuracy: 0.5351\n",
      "Epoch 52/100\n",
      "40/40 [==============================] - 0s 2ms/step - loss: 0.8941 - accuracy: 0.6198 - val_loss: 1.1487 - val_accuracy: 0.5439\n",
      "Epoch 53/100\n",
      "40/40 [==============================] - 0s 2ms/step - loss: 0.8773 - accuracy: 0.6399 - val_loss: 1.1255 - val_accuracy: 0.5614\n",
      "Epoch 54/100\n",
      "40/40 [==============================] - 0s 2ms/step - loss: 0.8964 - accuracy: 0.6713 - val_loss: 1.1064 - val_accuracy: 0.5526\n",
      "Epoch 55/100\n",
      "40/40 [==============================] - 0s 2ms/step - loss: 0.8936 - accuracy: 0.6248 - val_loss: 1.1190 - val_accuracy: 0.5468\n",
      "Epoch 56/100\n",
      "40/40 [==============================] - 0s 2ms/step - loss: 0.9008 - accuracy: 0.6299 - val_loss: 1.1244 - val_accuracy: 0.5439\n",
      "Epoch 57/100\n",
      "40/40 [==============================] - 0s 2ms/step - loss: 0.8716 - accuracy: 0.6374 - val_loss: 1.1417 - val_accuracy: 0.5322\n",
      "Epoch 58/100\n",
      "40/40 [==============================] - 0s 2ms/step - loss: 0.8975 - accuracy: 0.6286 - val_loss: 1.1862 - val_accuracy: 0.5380\n",
      "Epoch 59/100\n",
      "40/40 [==============================] - 0s 2ms/step - loss: 0.9018 - accuracy: 0.6336 - val_loss: 1.1699 - val_accuracy: 0.5585\n",
      "Epoch 60/100\n",
      "40/40 [==============================] - 0s 2ms/step - loss: 0.8953 - accuracy: 0.6324 - val_loss: 1.1896 - val_accuracy: 0.5702\n",
      "Epoch 61/100\n",
      "40/40 [==============================] - 0s 3ms/step - loss: 0.8843 - accuracy: 0.6198 - val_loss: 1.1239 - val_accuracy: 0.5556\n",
      "Epoch 62/100\n",
      "40/40 [==============================] - 0s 2ms/step - loss: 0.8727 - accuracy: 0.6349 - val_loss: 1.1545 - val_accuracy: 0.5614\n",
      "Epoch 63/100\n",
      "40/40 [==============================] - 0s 2ms/step - loss: 0.8608 - accuracy: 0.6499 - val_loss: 1.1216 - val_accuracy: 0.5409\n",
      "Epoch 64/100\n",
      "40/40 [==============================] - 0s 2ms/step - loss: 0.8708 - accuracy: 0.6537 - val_loss: 1.1741 - val_accuracy: 0.5497\n",
      "Epoch 65/100\n",
      "40/40 [==============================] - 0s 2ms/step - loss: 0.8403 - accuracy: 0.6625 - val_loss: 1.1713 - val_accuracy: 0.5556\n",
      "Epoch 66/100\n",
      "40/40 [==============================] - 0s 2ms/step - loss: 0.8571 - accuracy: 0.6462 - val_loss: 1.1780 - val_accuracy: 0.5643\n",
      "Epoch 67/100\n",
      "40/40 [==============================] - 0s 3ms/step - loss: 0.8415 - accuracy: 0.6587 - val_loss: 1.2178 - val_accuracy: 0.5292\n",
      "Epoch 68/100\n",
      "40/40 [==============================] - 0s 2ms/step - loss: 0.8605 - accuracy: 0.6349 - val_loss: 1.2083 - val_accuracy: 0.5585\n",
      "Epoch 69/100\n",
      "40/40 [==============================] - 0s 2ms/step - loss: 0.8703 - accuracy: 0.6524 - val_loss: 1.1946 - val_accuracy: 0.5351\n",
      "Epoch 70/100\n",
      "40/40 [==============================] - 0s 3ms/step - loss: 0.8494 - accuracy: 0.6625 - val_loss: 1.1867 - val_accuracy: 0.5614\n",
      "Epoch 71/100\n",
      "40/40 [==============================] - 0s 2ms/step - loss: 0.8682 - accuracy: 0.6462 - val_loss: 1.1702 - val_accuracy: 0.5468\n",
      "Epoch 72/100\n",
      "40/40 [==============================] - 0s 2ms/step - loss: 0.8706 - accuracy: 0.6524 - val_loss: 1.2279 - val_accuracy: 0.5468\n",
      "Epoch 73/100\n",
      "40/40 [==============================] - 0s 2ms/step - loss: 0.8568 - accuracy: 0.6600 - val_loss: 1.2613 - val_accuracy: 0.5468\n",
      "Epoch 74/100\n",
      "40/40 [==============================] - 0s 2ms/step - loss: 0.8629 - accuracy: 0.6474 - val_loss: 1.2487 - val_accuracy: 0.5292\n",
      "Epoch 75/100\n",
      "40/40 [==============================] - 0s 2ms/step - loss: 0.8737 - accuracy: 0.6424 - val_loss: 1.1670 - val_accuracy: 0.5614\n",
      "Epoch 76/100\n",
      "40/40 [==============================] - 0s 3ms/step - loss: 0.8272 - accuracy: 0.6487 - val_loss: 1.1868 - val_accuracy: 0.5468\n",
      "Epoch 77/100\n",
      "40/40 [==============================] - 0s 3ms/step - loss: 0.8424 - accuracy: 0.6587 - val_loss: 1.1878 - val_accuracy: 0.5380\n",
      "Epoch 78/100\n",
      "40/40 [==============================] - 0s 2ms/step - loss: 0.8388 - accuracy: 0.6675 - val_loss: 1.1845 - val_accuracy: 0.5526\n",
      "Epoch 79/100\n",
      "40/40 [==============================] - 0s 2ms/step - loss: 0.8049 - accuracy: 0.6876 - val_loss: 1.1372 - val_accuracy: 0.5526\n",
      "Epoch 80/100\n",
      "40/40 [==============================] - 0s 3ms/step - loss: 0.8037 - accuracy: 0.6801 - val_loss: 1.1759 - val_accuracy: 0.5351\n",
      "Epoch 81/100\n",
      "40/40 [==============================] - 0s 3ms/step - loss: 0.8284 - accuracy: 0.6512 - val_loss: 1.2213 - val_accuracy: 0.5497\n",
      "Epoch 82/100\n",
      "40/40 [==============================] - 0s 2ms/step - loss: 0.8189 - accuracy: 0.6888 - val_loss: 1.1880 - val_accuracy: 0.5526\n",
      "Epoch 83/100\n",
      "40/40 [==============================] - 0s 3ms/step - loss: 0.8076 - accuracy: 0.6775 - val_loss: 1.2162 - val_accuracy: 0.5380\n",
      "Epoch 84/100\n",
      "40/40 [==============================] - 0s 2ms/step - loss: 0.8200 - accuracy: 0.6813 - val_loss: 1.1930 - val_accuracy: 0.5526\n",
      "Epoch 85/100\n",
      "40/40 [==============================] - 0s 2ms/step - loss: 0.8296 - accuracy: 0.6512 - val_loss: 1.2252 - val_accuracy: 0.5439\n",
      "Epoch 86/100\n",
      "40/40 [==============================] - 0s 2ms/step - loss: 0.8158 - accuracy: 0.6813 - val_loss: 1.2162 - val_accuracy: 0.5673\n",
      "Epoch 87/100\n",
      "40/40 [==============================] - 0s 2ms/step - loss: 0.8082 - accuracy: 0.6813 - val_loss: 1.2300 - val_accuracy: 0.5497\n",
      "Epoch 88/100\n",
      "40/40 [==============================] - 0s 3ms/step - loss: 0.8024 - accuracy: 0.6700 - val_loss: 1.2093 - val_accuracy: 0.5322\n",
      "Epoch 89/100\n",
      "40/40 [==============================] - 0s 2ms/step - loss: 0.7950 - accuracy: 0.6813 - val_loss: 1.3149 - val_accuracy: 0.5234\n",
      "Epoch 90/100\n",
      "40/40 [==============================] - 0s 3ms/step - loss: 0.8063 - accuracy: 0.6876 - val_loss: 1.2601 - val_accuracy: 0.5263\n",
      "Epoch 91/100\n",
      "40/40 [==============================] - 0s 2ms/step - loss: 0.7794 - accuracy: 0.6700 - val_loss: 1.2537 - val_accuracy: 0.5468\n",
      "Epoch 92/100\n",
      "40/40 [==============================] - 0s 2ms/step - loss: 0.7735 - accuracy: 0.6901 - val_loss: 1.2689 - val_accuracy: 0.5497\n",
      "Epoch 93/100\n",
      "40/40 [==============================] - 0s 2ms/step - loss: 0.7828 - accuracy: 0.6725 - val_loss: 1.3341 - val_accuracy: 0.5292\n",
      "Epoch 94/100\n",
      "40/40 [==============================] - 0s 2ms/step - loss: 0.8139 - accuracy: 0.6713 - val_loss: 1.2764 - val_accuracy: 0.5731\n",
      "Epoch 95/100\n",
      "40/40 [==============================] - 0s 2ms/step - loss: 0.7741 - accuracy: 0.6926 - val_loss: 1.2307 - val_accuracy: 0.5585\n",
      "Epoch 96/100\n",
      "40/40 [==============================] - 0s 3ms/step - loss: 0.7530 - accuracy: 0.6964 - val_loss: 1.3303 - val_accuracy: 0.5409\n",
      "Epoch 97/100\n",
      "40/40 [==============================] - 0s 3ms/step - loss: 0.7728 - accuracy: 0.7064 - val_loss: 1.2824 - val_accuracy: 0.5614\n",
      "Epoch 98/100\n",
      "40/40 [==============================] - 0s 3ms/step - loss: 0.7587 - accuracy: 0.7014 - val_loss: 1.3007 - val_accuracy: 0.5585\n",
      "Epoch 99/100\n",
      "40/40 [==============================] - 0s 3ms/step - loss: 0.7768 - accuracy: 0.6725 - val_loss: 1.2811 - val_accuracy: 0.5380\n",
      "Epoch 100/100\n",
      "40/40 [==============================] - 0s 2ms/step - loss: 0.7733 - accuracy: 0.7039 - val_loss: 1.2879 - val_accuracy: 0.5351\n"
     ]
    }
   ],
   "source": [
    "adam = optimizers.Adam(lr=1e-3)\n",
    "\n",
    "# Compile the model\n",
    "model2_class.compile(loss=\"categorical_crossentropy\", metrics=[\"accuracy\"], optimizer=adam)\n",
    "\n",
    "# Fit the model\n",
    "history=model2_class.fit(x=X_Train_S, y=y_train, batch_size=20, epochs=100, validation_data=(X_Test_S, y_test_cat))"
   ]
  },
  {
   "cell_type": "markdown",
   "metadata": {
    "id": "7th7EP6zBRCk"
   },
   "source": [
    "### E. Plot visuals as in Q3.C and share insights about difference observed in both the models [3M]"
   ]
  },
  {
   "cell_type": "code",
   "execution_count": 26,
   "metadata": {
    "colab": {
     "base_uri": "https://localhost:8080/",
     "height": 295
    },
    "id": "yllfyV1ooGe9",
    "outputId": "c04b5961-d031-4229-c15a-5568ea7b6c4a"
   },
   "outputs": [
    {
     "data": {
      "image/png": "[encoded data removed]",
      "text/plain": [
       "<Figure size 432x288 with 1 Axes>"
      ]
     },
     "metadata": {
      "needs_background": "light"
     },
     "output_type": "display_data"
    }
   ],
   "source": [
    "loss, accuracy  = model2_class.evaluate(X_Test, y_test_cat, verbose=False)\n",
    "    \n",
    "plt.plot(history.history['accuracy'])\n",
    "plt.plot(history.history['val_accuracy'])\n",
    "plt.title('model accuracy')\n",
    "plt.ylabel('accuracy')\n",
    "plt.xlabel('epoch')\n",
    "plt.legend(['training', 'validation'], loc='best')\n",
    "plt.show()"
   ]
  },
  {
   "cell_type": "code",
   "execution_count": 27,
   "metadata": {
    "colab": {
     "base_uri": "https://localhost:8080/",
     "height": 295
    },
    "id": "kxsjWxferv9w",
    "outputId": "4cf1d111-ca96-4544-9747-302348c18758"
   },
   "outputs": [
    {
     "data": {
      "image/png": "[encoded data removed]",
      "text/plain": [
       "<Figure size 432x288 with 1 Axes>"
      ]
     },
     "metadata": {
      "needs_background": "light"
     },
     "output_type": "display_data"
    }
   ],
   "source": [
    "plt.plot(history.history['loss'])\n",
    "plt.plot(history.history['val_loss'])\n",
    "plt.title('model loss')\n",
    "plt.ylabel('loss')\n",
    "plt.xlabel('epoch')\n",
    "plt.legend(['training', 'validation'], loc='best')\n",
    "plt.show()"
   ]
  },
  {
   "cell_type": "markdown",
   "metadata": {
    "id": "1SMImRb1BcVx"
   },
   "source": [
    "### insights:\n",
    "#### 1. The vanila Deep NN model has resulted in overfitting with good training accuracy of 98%\n",
    "#### 2. To improve the first model, dropout and batch normalization are incorporated in subsequent Deep NN model\n",
    "#### 3. The second model has resolved the overfitting situation although the training accuracy hit 78%  \n",
    "#### 4. The performance can be increased with hyper-tuning parameters like learning-rate, epochs. loss function etc"
   ]
  },
  {
   "cell_type": "markdown",
   "metadata": {
    "id": "uHAY4CwbjHa6"
   },
   "source": [
    "# PART - B"
   ]
  },
  {
   "cell_type": "markdown",
   "metadata": {
    "id": "UAxEB5XLM6-g"
   },
   "source": [
    "# 1. Data Import and Exploration [5M]"
   ]
  },
  {
   "cell_type": "code",
   "execution_count": 28,
   "metadata": {
    "colab": {
     "base_uri": "https://localhost:8080/",
     "height": 35
    },
    "id": "qNwQ9IlajSGt",
    "outputId": "d853c34d-aaa5-40b1-86cf-fc95351cc3b9"
   },
   "outputs": [
    {
     "data": {
      "application/vnd.google.colaboratory.intrinsic+json": {
       "type": "string"
      },
      "text/plain": [
       "'2.8.2'"
      ]
     },
     "execution_count": 28,
     "metadata": {},
     "output_type": "execute_result"
    }
   ],
   "source": [
    "#Importing Libraries\n",
    "import tensorflow\n",
    "import h5py\n",
    "import matplotlib.pyplot as plt\n",
    "import numpy as np\n",
    "from tensorflow.keras.layers import Dense, Reshape, BatchNormalization, Dropout\n",
    "from tensorflow.keras.models import Sequential\n",
    "from tensorflow.keras import regularizers, optimizers\n",
    "import math\n",
    "\n",
    "%matplotlib inline\n",
    "tensorflow.__version__\n"
   ]
  },
  {
   "cell_type": "markdown",
   "metadata": {
    "id": "JDA57v94Ftwd"
   },
   "source": [
    "### A. Read the .h5 file and assign to a variable [2M]"
   ]
  },
  {
   "cell_type": "code",
   "execution_count": null,
   "metadata": {
    "id": "2Wj8N3KhD2d3"
   },
   "outputs": [],
   "source": []
  },
  {
   "cell_type": "code",
   "execution_count": 29,
   "metadata": {
    "id": "Mb62MmH1D4Yi"
   },
   "outputs": [],
   "source": [
    "#Open the file as readonly\n",
    "\n",
    "vehicle_df=h5py.File('/content/drive/MyDrive/GL-AI-ML/Autonomous_Vehicles_SVHN_single_grey1.h5','r')"
   ]
  },
  {
   "cell_type": "markdown",
   "metadata": {
    "id": "iD7Y4fatFz_U"
   },
   "source": [
    "### B. Print all the keys from the .h5 file [1M]"
   ]
  },
  {
   "cell_type": "code",
   "execution_count": 30,
   "metadata": {
    "colab": {
     "base_uri": "https://localhost:8080/"
    },
    "id": "PTAtuHEQWzGO",
    "outputId": "21a8e51f-47de-49f8-ef63-c53372a134f5"
   },
   "outputs": [
    {
     "data": {
      "text/plain": [
       "<KeysViewHDF5 ['X_test', 'X_train', 'X_val', 'y_test', 'y_train', 'y_val']>"
      ]
     },
     "execution_count": 30,
     "metadata": {},
     "output_type": "execute_result"
    }
   ],
   "source": [
    "vehicle_df.keys()"
   ]
  },
  {
   "cell_type": "markdown",
   "metadata": {
    "id": "EVqU6FDMF3Ir"
   },
   "source": [
    "### C. Split the data into X_train, X_test, Y_train, Y_test [2M]"
   ]
  },
  {
   "cell_type": "code",
   "execution_count": 31,
   "metadata": {
    "id": "zh2JQIJ6hx8T"
   },
   "outputs": [],
   "source": [
    "#Load the training, testing, and validation data\n",
    "X_train=vehicle_df['X_train']\n",
    "X_test=vehicle_df['X_test']\n",
    "y_train=vehicle_df['y_train']\n",
    "y_test=vehicle_df['y_test']"
   ]
  },
  {
   "cell_type": "code",
   "execution_count": 32,
   "metadata": {
    "colab": {
     "base_uri": "https://localhost:8080/"
    },
    "id": "4h2FlWMBwCrl",
    "outputId": "aec25cba-44ae-423c-c95e-1c4ef2d98486"
   },
   "outputs": [
    {
     "data": {
      "text/plain": [
       "10"
      ]
     },
     "execution_count": 32,
     "metadata": {},
     "output_type": "execute_result"
    }
   ],
   "source": [
    "Labels = np.unique(y_train)\n",
    "len(Labels)"
   ]
  },
  {
   "cell_type": "markdown",
   "metadata": {
    "id": "czop3ADSNXJQ"
   },
   "source": [
    "# 2. Data Visualisation and preprocessing [13M]"
   ]
  },
  {
   "cell_type": "markdown",
   "metadata": {
    "id": "1hqrMrW-GNvt"
   },
   "source": [
    "### A. Print shape of all the 4 data split into x, y, train, test to verify if x & y is in sync [1M]"
   ]
  },
  {
   "cell_type": "code",
   "execution_count": 35,
   "metadata": {
    "colab": {
     "base_uri": "https://localhost:8080/"
    },
    "id": "ZxpVZrl0Tv6i",
    "outputId": "219f04e2-f412-46ff-efaf-d4d9e5185673"
   },
   "outputs": [
    {
     "name": "stdout",
     "output_type": "stream",
     "text": [
      "X_train Shape : (42000, 32, 32)\n",
      "X_test Shape : (18000, 32, 32)\n",
      "y_train Shape : (42000,)\n",
      "y_test Shape : (18000,)\n"
     ]
    }
   ],
   "source": [
    "# Printing the shape and data type of training, testing\n",
    "print(\"X_train Shape :\", X_train.shape)\n",
    "print(\"X_test Shape :\", X_test.shape)\n",
    "\n",
    "print(\"y_train Shape :\", y_train.shape)\n",
    "print(\"y_test Shape :\", y_test.shape)\n"
   ]
  },
  {
   "cell_type": "markdown",
   "metadata": {
    "id": "oI9Rond4GYei"
   },
   "source": [
    "### B. Visualise first 10 images in train data and print its corresponding labels [4M]"
   ]
  },
  {
   "cell_type": "code",
   "execution_count": 36,
   "metadata": {
    "colab": {
     "base_uri": "https://localhost:8080/",
     "height": 111
    },
    "id": "nInz1tQairEj",
    "outputId": "f771ba24-d83e-4234-d458-90af4c61c53c"
   },
   "outputs": [
    {
     "data": {
      "image/png": "[encoded data removed]",
      "text/plain": [
       "<Figure size 720x72 with 10 Axes>"
      ]
     },
     "metadata": {
      "needs_background": "light"
     },
     "output_type": "display_data"
    },
    {
     "name": "stdout",
     "output_type": "stream",
     "text": [
      "label for each of the above image: [2 6 7 4 4 0 3 0 7 3]\n"
     ]
    }
   ],
   "source": [
    "plt.figure(figsize=(10, 1))\n",
    "for i in range(10):\n",
    "    plt.subplot(1, 10, i+1)\n",
    "    plt.imshow(X_train[i].reshape(32,32),cmap='gray')\n",
    "    plt.title(\"{}\".format(y_train[i]))\n",
    "    plt.axis('off')\n",
    "plt.show()\n",
    "print('label for each of the above image: %s' % (y_train[0:10]))"
   ]
  },
  {
   "cell_type": "markdown",
   "metadata": {
    "id": "vebalRq9GcBS"
   },
   "source": [
    "### C. Reshape all the images with appropriate shape update the data in same variable [3M]"
   ]
  },
  {
   "cell_type": "code",
   "execution_count": 37,
   "metadata": {
    "id": "zmzUqKrmjnF_"
   },
   "outputs": [],
   "source": [
    "#Reshape data from 2D to 1D -> 32X32 to 1024\n",
    "X_train = np.asarray(X_train).reshape(42000,1024)\n",
    "X_test = np.asarray(X_test).reshape(18000,1024)"
   ]
  },
  {
   "cell_type": "markdown",
   "metadata": {
    "id": "XGqkMkcPGukf"
   },
   "source": [
    "### D. Normalise the images i.e. Normalise the pixel values [2M]"
   ]
  },
  {
   "cell_type": "code",
   "execution_count": 38,
   "metadata": {
    "colab": {
     "base_uri": "https://localhost:8080/"
    },
    "id": "NnKvmufHkLxa",
    "outputId": "9808f3f1-78ec-4f9b-bd07-a5f32978876a"
   },
   "outputs": [
    {
     "name": "stdout",
     "output_type": "stream",
     "text": [
      "Min value for Train = 0.0, Test = 0.0 \n",
      "Max value for Train = 254.97450256347656, Test = 254.97450256347656 \n"
     ]
    }
   ],
   "source": [
    "print(f'Min value for Train = {X_train.min()}, Test = {X_test.min()} ')\n",
    "print(f'Max value for Train = {X_train.max()}, Test = {X_test.max()} ')"
   ]
  },
  {
   "cell_type": "code",
   "execution_count": 39,
   "metadata": {
    "colab": {
     "base_uri": "https://localhost:8080/"
    },
    "id": "C7LfsA8IkVeP",
    "outputId": "d2e42bd0-af5e-491c-c8c8-68721838018b"
   },
   "outputs": [
    {
     "name": "stdout",
     "output_type": "stream",
     "text": [
      "After Normalization\n",
      "Min value is 0.0\n",
      "Max value is 1.0\n"
     ]
    }
   ],
   "source": [
    "\n",
    "maxVal=X_train.max()\n",
    "X_train = X_train/maxVal\n",
    "X_test = X_test/maxVal\n",
    "\n",
    "print('After Normalization')\n",
    "print(f'Min value is {X_train.min()}')\n",
    "print(f'Max value is {X_train.max()}')"
   ]
  },
  {
   "cell_type": "markdown",
   "metadata": {
    "id": "Zeb-eB8CHPhy"
   },
   "source": [
    "### E. Transform Labels into format acceptable by Neural Network [2M]"
   ]
  },
  {
   "cell_type": "code",
   "execution_count": 40,
   "metadata": {
    "colab": {
     "base_uri": "https://localhost:8080/"
    },
    "id": "rqdMhgafklfy",
    "outputId": "fd4a5dda-d47c-4e3a-e42a-ef457b40ced2"
   },
   "outputs": [
    {
     "name": "stdout",
     "output_type": "stream",
     "text": [
      "Sample value before one hot encode 2\n",
      "\n",
      "Sample value after one hot encode [0. 0. 1. 0. 0. 0. 0. 0. 0. 0.]\n"
     ]
    }
   ],
   "source": [
    "print(f'Sample value before one hot encode {y_train[0]}\\n')\n",
    "y_train = tensorflow.keras.utils.to_categorical(y_train,num_classes=10)\n",
    "y_test= tensorflow.keras.utils.to_categorical(y_test, num_classes=10)\n",
    "print(f'Sample value after one hot encode {y_train[0]}')"
   ]
  },
  {
   "cell_type": "markdown",
   "metadata": {
    "id": "bMgczTNlHcEi"
   },
   "source": [
    "### F. Print total Number of classes in the Dataset [1M]"
   ]
  },
  {
   "cell_type": "code",
   "execution_count": 41,
   "metadata": {
    "colab": {
     "base_uri": "https://localhost:8080/"
    },
    "id": "0BjQblWFlOyS",
    "outputId": "0ca768b8-2b54-4b6e-9f68-99f8e24f2921"
   },
   "outputs": [
    {
     "data": {
      "text/plain": [
       "10"
      ]
     },
     "execution_count": 41,
     "metadata": {},
     "output_type": "execute_result"
    }
   ],
   "source": [
    "len(Labels)"
   ]
  },
  {
   "cell_type": "markdown",
   "metadata": {
    "id": "ijsmUnC_NhVL"
   },
   "source": [
    "# 3. Model Training & Evaluation using Neural Network [12M]"
   ]
  },
  {
   "cell_type": "markdown",
   "metadata": {
    "id": "7uhe-PSIHnpF"
   },
   "source": [
    "### A. Design a Neural Network to train a classifier [3M]"
   ]
  },
  {
   "cell_type": "markdown",
   "metadata": {
    "id": "qNmHMzSM_G6Z"
   },
   "source": [
    "#### Model1 - with BatchNormalization \n",
    "#### Model2 - with BatchNormalization and Dropout"
   ]
  },
  {
   "cell_type": "code",
   "execution_count": 59,
   "metadata": {
    "id": "ckVM1dX8hMA7"
   },
   "outputs": [],
   "source": [
    "\n",
    "def nn_model():\n",
    "    # create model\n",
    "    model = Sequential()  \n",
    "    model.add(BatchNormalization(input_shape = (1024,)))  ### Batch_Norm Layer\n",
    "    \n",
    "    model.add(Dense(256, activation='relu')) ###Multiple Dense units with Relu activation\n",
    "    model.add(Dense(64, activation='relu'))\n",
    "    model.add(Dense(64, activation='relu'))\n",
    "    model.add(Dense(32, activation='relu'))\n",
    "    model.add(Dense(10, activation='softmax'))\n",
    "    \n",
    "    # Compile model\n",
    "    adam = optimizers.Adam(lr=1e-3)\n",
    "    model.compile(loss=\"categorical_crossentropy\", optimizer=adam, metrics=['accuracy']) ### Loss function = Categorical cross entropy\n",
    "    return model\n",
    "\n"
   ]
  },
  {
   "cell_type": "code",
   "execution_count": 60,
   "metadata": {
    "id": "6GrsbR54-N4U"
   },
   "outputs": [],
   "source": [
    "def nn_model_best():\n",
    "    # create model\n",
    "    model = Sequential()  \n",
    "    model.add(BatchNormalization(input_shape = (1024,)))  ### Batch_Norm Layer\n",
    "    \n",
    "    model.add(Dense(256, activation='relu')) ###Multiple Dense units with Relu activation\n",
    "    model.add(Dense(64, activation='relu'))\n",
    "    model.add(Dropout(0.5))\n",
    "    model.add(Dense(64, activation='relu'))\n",
    "    model.add(Dense(32, activation='relu'))\n",
    "    model.add(Dropout(0.5))\n",
    "    model.add(Dense(10, activation='softmax'))\n",
    "    \n",
    "    # Compile model\n",
    "    adam = optimizers.Adam(lr=1e-3)\n",
    "    model.compile(loss=\"categorical_crossentropy\", optimizer=adam, metrics=['accuracy']) ### Loss function = Categorical cross entropy\n",
    "    return model"
   ]
  },
  {
   "cell_type": "markdown",
   "metadata": {
    "id": "Aqs8KkbeHyws"
   },
   "source": [
    "### B. Train the classifier using previously designed Architecture (Use best suitable parameters). [3M]"
   ]
  },
  {
   "cell_type": "code",
   "execution_count": 61,
   "metadata": {
    "colab": {
     "base_uri": "https://localhost:8080/"
    },
    "id": "LWm-Nii1hhkS",
    "outputId": "0cdab257-3508-4c0d-c373-3a640a6fac1f"
   },
   "outputs": [
    {
     "name": "stdout",
     "output_type": "stream",
     "text": [
      "Epoch 1/50\n",
      "210/210 - 3s - loss: 1.5703 - accuracy: 0.4671 - val_loss: 1.2825 - val_accuracy: 0.6659 - 3s/epoch - 15ms/step\n",
      "Epoch 2/50\n",
      "210/210 - 2s - loss: 0.9597 - accuracy: 0.7029 - val_loss: 0.9052 - val_accuracy: 0.7257 - 2s/epoch - 11ms/step\n",
      "Epoch 3/50\n",
      "210/210 - 2s - loss: 0.8074 - accuracy: 0.7489 - val_loss: 0.8190 - val_accuracy: 0.7487 - 2s/epoch - 11ms/step\n",
      "Epoch 4/50\n",
      "210/210 - 2s - loss: 0.7192 - accuracy: 0.7772 - val_loss: 0.7526 - val_accuracy: 0.7776 - 2s/epoch - 11ms/step\n",
      "Epoch 5/50\n",
      "210/210 - 2s - loss: 0.6523 - accuracy: 0.7981 - val_loss: 0.7696 - val_accuracy: 0.7692 - 2s/epoch - 11ms/step\n",
      "Epoch 6/50\n",
      "210/210 - 2s - loss: 0.6145 - accuracy: 0.8092 - val_loss: 0.6722 - val_accuracy: 0.8035 - 2s/epoch - 11ms/step\n",
      "Epoch 7/50\n",
      "210/210 - 2s - loss: 0.5675 - accuracy: 0.8249 - val_loss: 0.6825 - val_accuracy: 0.7988 - 2s/epoch - 11ms/step\n",
      "Epoch 8/50\n",
      "210/210 - 2s - loss: 0.5411 - accuracy: 0.8308 - val_loss: 0.6448 - val_accuracy: 0.8149 - 2s/epoch - 10ms/step\n",
      "Epoch 9/50\n",
      "210/210 - 2s - loss: 0.5087 - accuracy: 0.8413 - val_loss: 0.6414 - val_accuracy: 0.8134 - 2s/epoch - 11ms/step\n",
      "Epoch 10/50\n",
      "210/210 - 2s - loss: 0.4808 - accuracy: 0.8497 - val_loss: 0.6517 - val_accuracy: 0.8102 - 2s/epoch - 11ms/step\n",
      "Epoch 11/50\n",
      "210/210 - 2s - loss: 0.4672 - accuracy: 0.8521 - val_loss: 0.6339 - val_accuracy: 0.8191 - 2s/epoch - 11ms/step\n",
      "Epoch 12/50\n",
      "210/210 - 2s - loss: 0.4488 - accuracy: 0.8597 - val_loss: 0.6491 - val_accuracy: 0.8176 - 2s/epoch - 11ms/step\n",
      "Epoch 13/50\n",
      "210/210 - 2s - loss: 0.4322 - accuracy: 0.8625 - val_loss: 0.6243 - val_accuracy: 0.8262 - 2s/epoch - 11ms/step\n",
      "Epoch 14/50\n",
      "210/210 - 2s - loss: 0.4153 - accuracy: 0.8695 - val_loss: 0.6396 - val_accuracy: 0.8223 - 2s/epoch - 11ms/step\n",
      "Epoch 15/50\n",
      "210/210 - 3s - loss: 0.4020 - accuracy: 0.8719 - val_loss: 0.6211 - val_accuracy: 0.8304 - 3s/epoch - 14ms/step\n",
      "Epoch 16/50\n",
      "210/210 - 3s - loss: 0.3855 - accuracy: 0.8790 - val_loss: 0.6309 - val_accuracy: 0.8253 - 3s/epoch - 12ms/step\n",
      "Epoch 17/50\n",
      "210/210 - 3s - loss: 0.3784 - accuracy: 0.8825 - val_loss: 0.6516 - val_accuracy: 0.8207 - 3s/epoch - 15ms/step\n",
      "Epoch 18/50\n",
      "210/210 - 3s - loss: 0.3648 - accuracy: 0.8842 - val_loss: 0.6253 - val_accuracy: 0.8298 - 3s/epoch - 13ms/step\n",
      "Epoch 19/50\n",
      "210/210 - 3s - loss: 0.3538 - accuracy: 0.8882 - val_loss: 0.6258 - val_accuracy: 0.8342 - 3s/epoch - 13ms/step\n",
      "Epoch 20/50\n",
      "210/210 - 3s - loss: 0.3431 - accuracy: 0.8920 - val_loss: 0.6043 - val_accuracy: 0.8414 - 3s/epoch - 12ms/step\n",
      "Epoch 21/50\n",
      "210/210 - 3s - loss: 0.3317 - accuracy: 0.8949 - val_loss: 0.6294 - val_accuracy: 0.8331 - 3s/epoch - 13ms/step\n",
      "Epoch 22/50\n",
      "210/210 - 3s - loss: 0.3270 - accuracy: 0.8970 - val_loss: 0.6358 - val_accuracy: 0.8326 - 3s/epoch - 14ms/step\n",
      "Epoch 23/50\n",
      "210/210 - 3s - loss: 0.3184 - accuracy: 0.8996 - val_loss: 0.6258 - val_accuracy: 0.8387 - 3s/epoch - 14ms/step\n",
      "Epoch 24/50\n",
      "210/210 - 3s - loss: 0.3110 - accuracy: 0.9008 - val_loss: 0.6376 - val_accuracy: 0.8364 - 3s/epoch - 13ms/step\n",
      "Epoch 25/50\n",
      "210/210 - 3s - loss: 0.3033 - accuracy: 0.9027 - val_loss: 0.6207 - val_accuracy: 0.8422 - 3s/epoch - 13ms/step\n",
      "Epoch 26/50\n",
      "210/210 - 3s - loss: 0.2855 - accuracy: 0.9095 - val_loss: 0.6396 - val_accuracy: 0.8404 - 3s/epoch - 13ms/step\n",
      "Epoch 27/50\n",
      "210/210 - 3s - loss: 0.2872 - accuracy: 0.9088 - val_loss: 0.6758 - val_accuracy: 0.8321 - 3s/epoch - 13ms/step\n",
      "Epoch 28/50\n",
      "210/210 - 2s - loss: 0.2962 - accuracy: 0.9065 - val_loss: 0.6688 - val_accuracy: 0.8316 - 2s/epoch - 11ms/step\n",
      "Epoch 29/50\n",
      "210/210 - 2s - loss: 0.2866 - accuracy: 0.9084 - val_loss: 0.6549 - val_accuracy: 0.8366 - 2s/epoch - 10ms/step\n",
      "Epoch 30/50\n",
      "210/210 - 2s - loss: 0.2689 - accuracy: 0.9146 - val_loss: 0.6447 - val_accuracy: 0.8433 - 2s/epoch - 10ms/step\n",
      "Epoch 31/50\n",
      "210/210 - 2s - loss: 0.2625 - accuracy: 0.9156 - val_loss: 0.6439 - val_accuracy: 0.8429 - 2s/epoch - 12ms/step\n",
      "Epoch 32/50\n",
      "210/210 - 3s - loss: 0.2632 - accuracy: 0.9166 - val_loss: 0.6542 - val_accuracy: 0.8416 - 3s/epoch - 13ms/step\n",
      "Epoch 33/50\n",
      "210/210 - 2s - loss: 0.2599 - accuracy: 0.9168 - val_loss: 0.6714 - val_accuracy: 0.8401 - 2s/epoch - 12ms/step\n",
      "Epoch 34/50\n",
      "210/210 - 2s - loss: 0.2449 - accuracy: 0.9219 - val_loss: 0.7089 - val_accuracy: 0.8334 - 2s/epoch - 11ms/step\n",
      "Epoch 35/50\n",
      "210/210 - 2s - loss: 0.2458 - accuracy: 0.9208 - val_loss: 0.7189 - val_accuracy: 0.8343 - 2s/epoch - 11ms/step\n",
      "Epoch 36/50\n",
      "210/210 - 2s - loss: 0.2431 - accuracy: 0.9210 - val_loss: 0.6730 - val_accuracy: 0.8461 - 2s/epoch - 11ms/step\n",
      "Epoch 37/50\n",
      "210/210 - 2s - loss: 0.2332 - accuracy: 0.9256 - val_loss: 0.7202 - val_accuracy: 0.8353 - 2s/epoch - 11ms/step\n",
      "Epoch 38/50\n",
      "210/210 - 3s - loss: 0.2312 - accuracy: 0.9254 - val_loss: 0.6991 - val_accuracy: 0.8402 - 3s/epoch - 15ms/step\n",
      "Epoch 39/50\n",
      "210/210 - 2s - loss: 0.2306 - accuracy: 0.9256 - val_loss: 0.6995 - val_accuracy: 0.8413 - 2s/epoch - 10ms/step\n",
      "Epoch 40/50\n",
      "210/210 - 2s - loss: 0.2219 - accuracy: 0.9290 - val_loss: 0.6984 - val_accuracy: 0.8415 - 2s/epoch - 10ms/step\n",
      "Epoch 41/50\n",
      "210/210 - 2s - loss: 0.2268 - accuracy: 0.9277 - val_loss: 0.7367 - val_accuracy: 0.8383 - 2s/epoch - 11ms/step\n",
      "Epoch 42/50\n",
      "210/210 - 2s - loss: 0.2196 - accuracy: 0.9287 - val_loss: 0.7547 - val_accuracy: 0.8360 - 2s/epoch - 11ms/step\n",
      "Epoch 43/50\n",
      "210/210 - 2s - loss: 0.2141 - accuracy: 0.9302 - val_loss: 0.7092 - val_accuracy: 0.8440 - 2s/epoch - 10ms/step\n",
      "Epoch 44/50\n",
      "210/210 - 2s - loss: 0.2129 - accuracy: 0.9315 - val_loss: 0.7242 - val_accuracy: 0.8414 - 2s/epoch - 11ms/step\n",
      "Epoch 45/50\n",
      "210/210 - 2s - loss: 0.2119 - accuracy: 0.9323 - val_loss: 0.7358 - val_accuracy: 0.8399 - 2s/epoch - 10ms/step\n",
      "Epoch 46/50\n",
      "210/210 - 2s - loss: 0.2060 - accuracy: 0.9339 - val_loss: 0.7235 - val_accuracy: 0.8444 - 2s/epoch - 11ms/step\n",
      "Epoch 47/50\n",
      "210/210 - 2s - loss: 0.1917 - accuracy: 0.9383 - val_loss: 0.7501 - val_accuracy: 0.8395 - 2s/epoch - 11ms/step\n",
      "Epoch 48/50\n",
      "210/210 - 2s - loss: 0.1976 - accuracy: 0.9361 - val_loss: 0.7427 - val_accuracy: 0.8461 - 2s/epoch - 11ms/step\n",
      "Epoch 49/50\n",
      "210/210 - 2s - loss: 0.2075 - accuracy: 0.9343 - val_loss: 0.7448 - val_accuracy: 0.8474 - 2s/epoch - 10ms/step\n",
      "Epoch 50/50\n",
      "210/210 - 2s - loss: 0.2009 - accuracy: 0.9355 - val_loss: 0.7449 - val_accuracy: 0.8429 - 2s/epoch - 11ms/step\n"
     ]
    }
   ],
   "source": [
    "# build the model\n",
    "model1_cfr = nn_model()\n",
    "\n",
    "# Fit the model\n",
    "model1_history = model1_cfr.fit(X_train, y_train, validation_data=(X_test, y_test), epochs=50, batch_size=200, verbose=2)"
   ]
  },
  {
   "cell_type": "code",
   "execution_count": 62,
   "metadata": {
    "colab": {
     "base_uri": "https://localhost:8080/"
    },
    "id": "4TVtme9t-hjX",
    "outputId": "09fef77c-a41d-4b7a-c931-488ad4fa800a"
   },
   "outputs": [
    {
     "name": "stdout",
     "output_type": "stream",
     "text": [
      "Epoch 1/50\n",
      "210/210 - 3s - loss: 2.2489 - accuracy: 0.1490 - val_loss: 2.0640 - val_accuracy: 0.3244 - 3s/epoch - 14ms/step\n",
      "Epoch 2/50\n",
      "210/210 - 2s - loss: 1.9275 - accuracy: 0.2890 - val_loss: 1.5451 - val_accuracy: 0.5318 - 2s/epoch - 11ms/step\n",
      "Epoch 3/50\n",
      "210/210 - 2s - loss: 1.6593 - accuracy: 0.4086 - val_loss: 1.2700 - val_accuracy: 0.6253 - 2s/epoch - 11ms/step\n",
      "Epoch 4/50\n",
      "210/210 - 3s - loss: 1.5278 - accuracy: 0.4694 - val_loss: 1.1751 - val_accuracy: 0.6573 - 3s/epoch - 12ms/step\n",
      "Epoch 5/50\n",
      "210/210 - 2s - loss: 1.4097 - accuracy: 0.5173 - val_loss: 1.0575 - val_accuracy: 0.6906 - 2s/epoch - 11ms/step\n",
      "Epoch 6/50\n",
      "210/210 - 2s - loss: 1.3269 - accuracy: 0.5541 - val_loss: 0.9815 - val_accuracy: 0.7119 - 2s/epoch - 11ms/step\n",
      "Epoch 7/50\n",
      "210/210 - 2s - loss: 1.2598 - accuracy: 0.5779 - val_loss: 0.9380 - val_accuracy: 0.7266 - 2s/epoch - 10ms/step\n",
      "Epoch 8/50\n",
      "210/210 - 2s - loss: 1.2040 - accuracy: 0.6030 - val_loss: 0.8984 - val_accuracy: 0.7409 - 2s/epoch - 10ms/step\n",
      "Epoch 9/50\n",
      "210/210 - 2s - loss: 1.1521 - accuracy: 0.6235 - val_loss: 0.8579 - val_accuracy: 0.7496 - 2s/epoch - 11ms/step\n",
      "Epoch 10/50\n",
      "210/210 - 2s - loss: 1.0991 - accuracy: 0.6425 - val_loss: 0.8216 - val_accuracy: 0.7593 - 2s/epoch - 11ms/step\n",
      "Epoch 11/50\n",
      "210/210 - 2s - loss: 1.0529 - accuracy: 0.6611 - val_loss: 0.7945 - val_accuracy: 0.7666 - 2s/epoch - 11ms/step\n",
      "Epoch 12/50\n",
      "210/210 - 2s - loss: 1.0186 - accuracy: 0.6765 - val_loss: 0.7532 - val_accuracy: 0.7737 - 2s/epoch - 10ms/step\n",
      "Epoch 13/50\n",
      "210/210 - 2s - loss: 0.9838 - accuracy: 0.6857 - val_loss: 0.7328 - val_accuracy: 0.7870 - 2s/epoch - 11ms/step\n",
      "Epoch 14/50\n",
      "210/210 - 2s - loss: 0.9604 - accuracy: 0.6968 - val_loss: 0.7085 - val_accuracy: 0.7930 - 2s/epoch - 11ms/step\n",
      "Epoch 15/50\n",
      "210/210 - 2s - loss: 0.9206 - accuracy: 0.7086 - val_loss: 0.7228 - val_accuracy: 0.7900 - 2s/epoch - 11ms/step\n",
      "Epoch 16/50\n",
      "210/210 - 2s - loss: 0.8817 - accuracy: 0.7232 - val_loss: 0.6784 - val_accuracy: 0.7993 - 2s/epoch - 11ms/step\n",
      "Epoch 17/50\n",
      "210/210 - 2s - loss: 0.8744 - accuracy: 0.7231 - val_loss: 0.6715 - val_accuracy: 0.8041 - 2s/epoch - 11ms/step\n",
      "Epoch 18/50\n",
      "210/210 - 2s - loss: 0.8526 - accuracy: 0.7360 - val_loss: 0.6928 - val_accuracy: 0.7971 - 2s/epoch - 11ms/step\n",
      "Epoch 19/50\n",
      "210/210 - 3s - loss: 0.8424 - accuracy: 0.7391 - val_loss: 0.6539 - val_accuracy: 0.8112 - 3s/epoch - 15ms/step\n",
      "Epoch 20/50\n",
      "210/210 - 2s - loss: 0.8057 - accuracy: 0.7534 - val_loss: 0.6339 - val_accuracy: 0.8157 - 2s/epoch - 11ms/step\n",
      "Epoch 21/50\n",
      "210/210 - 2s - loss: 0.7739 - accuracy: 0.7616 - val_loss: 0.6337 - val_accuracy: 0.8156 - 2s/epoch - 10ms/step\n",
      "Epoch 22/50\n",
      "210/210 - 2s - loss: 0.7660 - accuracy: 0.7628 - val_loss: 0.6312 - val_accuracy: 0.8224 - 2s/epoch - 10ms/step\n",
      "Epoch 23/50\n",
      "210/210 - 2s - loss: 0.7457 - accuracy: 0.7722 - val_loss: 0.6320 - val_accuracy: 0.8140 - 2s/epoch - 10ms/step\n",
      "Epoch 24/50\n",
      "210/210 - 2s - loss: 0.7339 - accuracy: 0.7787 - val_loss: 0.6162 - val_accuracy: 0.8200 - 2s/epoch - 11ms/step\n",
      "Epoch 25/50\n",
      "210/210 - 2s - loss: 0.7175 - accuracy: 0.7816 - val_loss: 0.6115 - val_accuracy: 0.8236 - 2s/epoch - 10ms/step\n",
      "Epoch 26/50\n",
      "210/210 - 2s - loss: 0.7137 - accuracy: 0.7844 - val_loss: 0.6003 - val_accuracy: 0.8302 - 2s/epoch - 10ms/step\n",
      "Epoch 27/50\n",
      "210/210 - 2s - loss: 0.6931 - accuracy: 0.7909 - val_loss: 0.6056 - val_accuracy: 0.8260 - 2s/epoch - 11ms/step\n",
      "Epoch 28/50\n",
      "210/210 - 2s - loss: 0.6823 - accuracy: 0.7927 - val_loss: 0.6199 - val_accuracy: 0.8197 - 2s/epoch - 10ms/step\n",
      "Epoch 29/50\n",
      "210/210 - 2s - loss: 0.6742 - accuracy: 0.7972 - val_loss: 0.5650 - val_accuracy: 0.8341 - 2s/epoch - 11ms/step\n",
      "Epoch 30/50\n",
      "210/210 - 2s - loss: 0.6574 - accuracy: 0.8020 - val_loss: 0.5882 - val_accuracy: 0.8341 - 2s/epoch - 10ms/step\n",
      "Epoch 31/50\n",
      "210/210 - 2s - loss: 0.6549 - accuracy: 0.8022 - val_loss: 0.5750 - val_accuracy: 0.8321 - 2s/epoch - 10ms/step\n",
      "Epoch 32/50\n",
      "210/210 - 2s - loss: 0.6448 - accuracy: 0.8060 - val_loss: 0.5693 - val_accuracy: 0.8337 - 2s/epoch - 10ms/step\n",
      "Epoch 33/50\n",
      "210/210 - 2s - loss: 0.6417 - accuracy: 0.8090 - val_loss: 0.5738 - val_accuracy: 0.8353 - 2s/epoch - 10ms/step\n",
      "Epoch 34/50\n",
      "210/210 - 2s - loss: 0.6291 - accuracy: 0.8097 - val_loss: 0.5704 - val_accuracy: 0.8349 - 2s/epoch - 10ms/step\n",
      "Epoch 35/50\n",
      "210/210 - 2s - loss: 0.6283 - accuracy: 0.8115 - val_loss: 0.5484 - val_accuracy: 0.8477 - 2s/epoch - 10ms/step\n",
      "Epoch 36/50\n",
      "210/210 - 2s - loss: 0.6147 - accuracy: 0.8153 - val_loss: 0.5783 - val_accuracy: 0.8367 - 2s/epoch - 10ms/step\n",
      "Epoch 37/50\n",
      "210/210 - 2s - loss: 0.6184 - accuracy: 0.8184 - val_loss: 0.5874 - val_accuracy: 0.8332 - 2s/epoch - 10ms/step\n",
      "Epoch 38/50\n",
      "210/210 - 2s - loss: 0.6058 - accuracy: 0.8176 - val_loss: 0.5498 - val_accuracy: 0.8441 - 2s/epoch - 10ms/step\n",
      "Epoch 39/50\n",
      "210/210 - 2s - loss: 0.6089 - accuracy: 0.8181 - val_loss: 0.5356 - val_accuracy: 0.8471 - 2s/epoch - 10ms/step\n",
      "Epoch 40/50\n",
      "210/210 - 2s - loss: 0.5835 - accuracy: 0.8240 - val_loss: 0.5801 - val_accuracy: 0.8374 - 2s/epoch - 10ms/step\n",
      "Epoch 41/50\n",
      "210/210 - 2s - loss: 0.5839 - accuracy: 0.8247 - val_loss: 0.5680 - val_accuracy: 0.8361 - 2s/epoch - 10ms/step\n",
      "Epoch 42/50\n",
      "210/210 - 2s - loss: 0.5759 - accuracy: 0.8286 - val_loss: 0.5799 - val_accuracy: 0.8384 - 2s/epoch - 10ms/step\n",
      "Epoch 43/50\n",
      "210/210 - 2s - loss: 0.5804 - accuracy: 0.8269 - val_loss: 0.5349 - val_accuracy: 0.8454 - 2s/epoch - 11ms/step\n",
      "Epoch 44/50\n",
      "210/210 - 2s - loss: 0.5717 - accuracy: 0.8299 - val_loss: 0.5555 - val_accuracy: 0.8410 - 2s/epoch - 11ms/step\n",
      "Epoch 45/50\n",
      "210/210 - 2s - loss: 0.5763 - accuracy: 0.8288 - val_loss: 0.5396 - val_accuracy: 0.8452 - 2s/epoch - 11ms/step\n",
      "Epoch 46/50\n",
      "210/210 - 2s - loss: 0.5560 - accuracy: 0.8346 - val_loss: 0.5409 - val_accuracy: 0.8483 - 2s/epoch - 11ms/step\n",
      "Epoch 47/50\n",
      "210/210 - 2s - loss: 0.5560 - accuracy: 0.8345 - val_loss: 0.5366 - val_accuracy: 0.8494 - 2s/epoch - 11ms/step\n",
      "Epoch 48/50\n",
      "210/210 - 2s - loss: 0.5535 - accuracy: 0.8358 - val_loss: 0.5492 - val_accuracy: 0.8438 - 2s/epoch - 10ms/step\n",
      "Epoch 49/50\n",
      "210/210 - 2s - loss: 0.5452 - accuracy: 0.8362 - val_loss: 0.5431 - val_accuracy: 0.8518 - 2s/epoch - 11ms/step\n",
      "Epoch 50/50\n",
      "210/210 - 2s - loss: 0.5388 - accuracy: 0.8378 - val_loss: 0.5507 - val_accuracy: 0.8491 - 2s/epoch - 11ms/step\n"
     ]
    }
   ],
   "source": [
    "# build the model\n",
    "model2_cfr = nn_model_best()\n",
    "\n",
    "# Fit the model\n",
    "model2_history = model2_cfr.fit(X_train, y_train, validation_data=(X_test, y_test), epochs=50, batch_size=200, verbose=2)"
   ]
  },
  {
   "cell_type": "markdown",
   "metadata": {
    "id": "2P8g5xrGI4C1"
   },
   "source": [
    "### C. Evaluate performance of the model with appropriate metrics [2M]"
   ]
  },
  {
   "cell_type": "code",
   "execution_count": 63,
   "metadata": {
    "colab": {
     "base_uri": "https://localhost:8080/"
    },
    "id": "hHYN8HGHI46Q",
    "outputId": "a9f46aa6-16ee-4030-b70e-f9973f45d122"
   },
   "outputs": [
    {
     "name": "stdout",
     "output_type": "stream",
     "text": [
      "Model: \"sequential_7\"\n",
      "_________________________________________________________________\n",
      " Layer (type)                Output Shape              Param #   \n",
      "=================================================================\n",
      " batch_normalization_6 (Batc  (None, 1024)             4096      \n",
      " hNormalization)                                                 \n",
      "                                                                 \n",
      " dense_35 (Dense)            (None, 256)               262400    \n",
      "                                                                 \n",
      " dense_36 (Dense)            (None, 64)                16448     \n",
      "                                                                 \n",
      " dense_37 (Dense)            (None, 64)                4160      \n",
      "                                                                 \n",
      " dense_38 (Dense)            (None, 32)                2080      \n",
      "                                                                 \n",
      " dense_39 (Dense)            (None, 10)                330       \n",
      "                                                                 \n",
      "=================================================================\n",
      "Total params: 289,514\n",
      "Trainable params: 287,466\n",
      "Non-trainable params: 2,048\n",
      "_________________________________________________________________\n"
     ]
    }
   ],
   "source": [
    "loss, accuracy  = model1_cfr.evaluate(X_test, y_test, verbose=False)\n",
    "#summary of classification model\n",
    "model1_cfr.summary()"
   ]
  },
  {
   "cell_type": "code",
   "execution_count": 64,
   "metadata": {
    "colab": {
     "base_uri": "https://localhost:8080/"
    },
    "id": "PTakrB3_9lfr",
    "outputId": "0c36eddf-5289-46dc-bcb2-b45babee3867"
   },
   "outputs": [
    {
     "name": "stdout",
     "output_type": "stream",
     "text": [
      "Model: \"sequential_8\"\n",
      "_________________________________________________________________\n",
      " Layer (type)                Output Shape              Param #   \n",
      "=================================================================\n",
      " batch_normalization_7 (Batc  (None, 1024)             4096      \n",
      " hNormalization)                                                 \n",
      "                                                                 \n",
      " dense_40 (Dense)            (None, 256)               262400    \n",
      "                                                                 \n",
      " dense_41 (Dense)            (None, 64)                16448     \n",
      "                                                                 \n",
      " dropout_5 (Dropout)         (None, 64)                0         \n",
      "                                                                 \n",
      " dense_42 (Dense)            (None, 64)                4160      \n",
      "                                                                 \n",
      " dense_43 (Dense)            (None, 32)                2080      \n",
      "                                                                 \n",
      " dropout_6 (Dropout)         (None, 32)                0         \n",
      "                                                                 \n",
      " dense_44 (Dense)            (None, 10)                330       \n",
      "                                                                 \n",
      "=================================================================\n",
      "Total params: 289,514\n",
      "Trainable params: 287,466\n",
      "Non-trainable params: 2,048\n",
      "_________________________________________________________________\n"
     ]
    }
   ],
   "source": [
    "loss, accuracy  = model2_cfr.evaluate(X_test, y_test, verbose=False)\n",
    "#summary of classification model\n",
    "model2_cfr.summary()"
   ]
  },
  {
   "cell_type": "markdown",
   "metadata": {
    "id": "rY7c7M41IM9j"
   },
   "source": [
    "### D. Plot the training loss, validation loss vs number of epochs and training accuracy, validation accuracy vs number of epochs plot and write your observations on the same [4M]"
   ]
  },
  {
   "cell_type": "code",
   "execution_count": 66,
   "metadata": {
    "colab": {
     "base_uri": "https://localhost:8080/",
     "height": 295
    },
    "id": "p5KPFfoCk3bU",
    "outputId": "2596ee8e-e7aa-46c6-89d8-e8c43914d6ae"
   },
   "outputs": [
    {
     "data": {
      "image/png": "[encoded data removed]",
      "text/plain": [
       "<Figure size 432x288 with 1 Axes>"
      ]
     },
     "metadata": {
      "needs_background": "light"
     },
     "output_type": "display_data"
    }
   ],
   "source": [
    " # Plot Model1 Accuracy  \n",
    "plt.plot(model1_history.history['accuracy'])\n",
    "plt.plot(model1_history.history['val_accuracy'])\n",
    "plt.title('model1 accuracy')\n",
    "plt.ylabel('accuracy')\n",
    "plt.xlabel('epoch')\n",
    "plt.legend(['training', 'validation'], loc='best')\n",
    "plt.show()"
   ]
  },
  {
   "cell_type": "code",
   "execution_count": 67,
   "metadata": {
    "colab": {
     "base_uri": "https://localhost:8080/",
     "height": 295
    },
    "id": "mk1YDEqZk4kE",
    "outputId": "d343eb66-4877-4dba-f21d-f8246483173e"
   },
   "outputs": [
    {
     "data": {
      "image/png": "[encoded data removed]",
      "text/plain": [
       "<Figure size 432x288 with 1 Axes>"
      ]
     },
     "metadata": {
      "needs_background": "light"
     },
     "output_type": "display_data"
    }
   ],
   "source": [
    "# Plot Model1 loss\n",
    "plt.plot(model1_history.history['loss'])\n",
    "plt.plot(model1_history.history['val_loss'])\n",
    "plt.title('model1 loss')\n",
    "plt.ylabel('loss')\n",
    "plt.xlabel('epoch')\n",
    "plt.legend(['training', 'validation'], loc='best')\n",
    "plt.show()"
   ]
  },
  {
   "cell_type": "code",
   "execution_count": 68,
   "metadata": {
    "colab": {
     "base_uri": "https://localhost:8080/",
     "height": 295
    },
    "id": "jhSQYClfBtRN",
    "outputId": "bdd15265-04a3-432e-f2ed-779b77e59b8b"
   },
   "outputs": [
    {
     "data": {
      "image/png": "[encoded data removed]",
      "text/plain": [
       "<Figure size 432x288 with 1 Axes>"
      ]
     },
     "metadata": {
      "needs_background": "light"
     },
     "output_type": "display_data"
    }
   ],
   "source": [
    "# Plot Model2 Accuracy    \n",
    "plt.plot(model2_history.history['accuracy'])\n",
    "plt.plot(model2_history.history['val_accuracy'])\n",
    "plt.title('model2 accuracy')\n",
    "plt.ylabel('accuracy')\n",
    "plt.xlabel('epoch')\n",
    "plt.legend(['training', 'validation'], loc='best')\n",
    "plt.show()"
   ]
  },
  {
   "cell_type": "code",
   "execution_count": 69,
   "metadata": {
    "colab": {
     "base_uri": "https://localhost:8080/",
     "height": 295
    },
    "id": "hGneDShhB1aO",
    "outputId": "2d327282-ba42-4dcc-de71-6f3946b67648"
   },
   "outputs": [
    {
     "data": {
      "image/png": "[encoded data removed]",
      "text/plain": [
       "<Figure size 432x288 with 1 Axes>"
      ]
     },
     "metadata": {
      "needs_background": "light"
     },
     "output_type": "display_data"
    }
   ],
   "source": [
    "# Plot Model2 loss\n",
    "plt.plot(model2_history.history['loss'])\n",
    "plt.plot(model2_history.history['val_loss'])\n",
    "plt.title('model2 loss')\n",
    "plt.ylabel('loss')\n",
    "plt.xlabel('epoch')\n",
    "plt.legend(['training', 'validation'], loc='best')\n",
    "plt.show()"
   ]
  },
  {
   "cell_type": "markdown",
   "metadata": {
    "id": "UoLdACxXA1Zl"
   },
   "source": [
    "### Observations:\n",
    "#### 1. The Deep NN model with just BatchNormalization has resulted in overfitting with good training accuracy of 94%\n",
    "#### 2. To improve the first model, dropout also incorporated in subsequent Deep NN model\n",
    "#### 3. The second model has resolved the overfitting situation although the training accuracy hit 84%\n",
    "#### 4. The performance can be increased with hyper-tuning parameters like learning-rate, epochs. loss function etc\n",
    "\n"
   ]
  },
  {
   "cell_type": "code",
   "execution_count": null,
   "metadata": {},
   "outputs": [],
   "source": []
  }
 ],
 "metadata": {
  "colab": {
   "collapsed_sections": [],
   "provenance": []
  },
  "kernelspec": {
   "display_name": "Python 3 (ipykernel)",
   "language": "python",
   "name": "python3"
  },
  "language_info": {
   "codemirror_mode": {
    "name": "ipython",
    "version": 3
   },
   "file_extension": ".py",
   "mimetype": "text/x-python",
   "name": "python",
   "nbconvert_exporter": "python",
   "pygments_lexer": "ipython3",
   "version": "3.10.6"
  }
 },
 "nbformat": 4,
 "nbformat_minor": 1
}
